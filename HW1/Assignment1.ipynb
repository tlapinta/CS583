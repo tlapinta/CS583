{
 "cells": [
  {
   "cell_type": "markdown",
   "metadata": {},
   "source": [
    "# HM1: Logistic Regression.\n",
    "\n",
    "### Name: [Your-Name]\n"
   ]
  },
  {
   "cell_type": "markdown",
   "metadata": {},
   "source": [
    "#### For this assignment, you will build 6 models. You need to train Logistic Regression/Regularized Logistic Regression each with Batch Gradient Descent, Stochastic Gradient Descent and Mini Batch Gradient Descent. Also, you should plot their objective values versus epochs and compare their training and testing accuracy. You will need to tune the parameters a little bit to obtain reasonable results.\n",
    "\n",
    "#### You do not have to follow the following procedure. You may implement your own functions and methods, but you need to show your results and plots."
   ]
  },
  {
   "cell_type": "code",
   "execution_count": 3,
   "metadata": {},
   "outputs": [
    {
     "name": "stdout",
     "output_type": "stream",
     "text": [
      "Requirement already satisfied: numpy in c:\\users\\early\\appdata\\local\\programs\\python\\python311\\lib\\site-packages (1.24.2)\n",
      "Note: you may need to restart the kernel to use updated packages.\n"
     ]
    },
    {
     "name": "stderr",
     "output_type": "stream",
     "text": [
      "\n",
      "[notice] A new release of pip is available: 23.0 -> 23.0.1\n",
      "[notice] To update, run: python.exe -m pip install --upgrade pip\n"
     ]
    },
    {
     "name": "stdout",
     "output_type": "stream",
     "text": [
      "Requirement already satisfied: pandas in c:\\users\\early\\appdata\\local\\programs\\python\\python311\\lib\\site-packages (1.5.3)\n",
      "Requirement already satisfied: python-dateutil>=2.8.1 in c:\\users\\early\\appdata\\roaming\\python\\python311\\site-packages (from pandas) (2.8.2)\n",
      "Requirement already satisfied: pytz>=2020.1 in c:\\users\\early\\appdata\\local\\programs\\python\\python311\\lib\\site-packages (from pandas) (2022.7.1)\n",
      "Requirement already satisfied: numpy>=1.21.0 in c:\\users\\early\\appdata\\local\\programs\\python\\python311\\lib\\site-packages (from pandas) (1.24.2)\n",
      "Requirement already satisfied: six>=1.5 in c:\\users\\early\\appdata\\roaming\\python\\python311\\site-packages (from python-dateutil>=2.8.1->pandas) (1.16.0)\n",
      "Note: you may need to restart the kernel to use updated packages.\n"
     ]
    },
    {
     "name": "stderr",
     "output_type": "stream",
     "text": [
      "\n",
      "[notice] A new release of pip is available: 23.0 -> 23.0.1\n",
      "[notice] To update, run: python.exe -m pip install --upgrade pip\n"
     ]
    },
    {
     "name": "stdout",
     "output_type": "stream",
     "text": [
      "Requirement already satisfied: scikit-learn in c:\\users\\early\\appdata\\local\\programs\\python\\python311\\lib\\site-packages (1.2.1)\n",
      "Requirement already satisfied: numpy>=1.17.3 in c:\\users\\early\\appdata\\local\\programs\\python\\python311\\lib\\site-packages (from scikit-learn) (1.24.2)\n",
      "Requirement already satisfied: scipy>=1.3.2 in c:\\users\\early\\appdata\\local\\programs\\python\\python311\\lib\\site-packages (from scikit-learn) (1.10.0)\n",
      "Requirement already satisfied: joblib>=1.1.1 in c:\\users\\early\\appdata\\local\\programs\\python\\python311\\lib\\site-packages (from scikit-learn) (1.2.0)\n",
      "Requirement already satisfied: threadpoolctl>=2.0.0 in c:\\users\\early\\appdata\\local\\programs\\python\\python311\\lib\\site-packages (from scikit-learn) (3.1.0)\n",
      "Note: you may need to restart the kernel to use updated packages.\n"
     ]
    },
    {
     "name": "stderr",
     "output_type": "stream",
     "text": [
      "\n",
      "[notice] A new release of pip is available: 23.0 -> 23.0.1\n",
      "[notice] To update, run: python.exe -m pip install --upgrade pip\n"
     ]
    }
   ],
   "source": [
    "# Load Packages\n",
    "%pip install numpy\n",
    "%pip install pandas\n",
    "%pip install scikit-learn\n"
   ]
  },
  {
   "cell_type": "markdown",
   "metadata": {},
   "source": [
    "# 1. Data processing\n",
    "\n",
    "- Download the Breast Cancer dataset from canvas or from https://archive.ics.uci.edu/ml/datasets/breast+cancer+wisconsin+(diagnostic)\n",
    "- Load the data.\n",
    "- Preprocess the data."
   ]
  },
  {
   "cell_type": "markdown",
   "metadata": {},
   "source": [
    "## 1.1. Load the data"
   ]
  },
  {
   "cell_type": "code",
   "execution_count": 4,
   "metadata": {},
   "outputs": [],
   "source": [
    "import numpy as np\n",
    "import pandas as pd\n",
    "from sklearn.model_selection import train_test_split\n",
    "\n",
    "\n",
    "\n"
   ]
  },
  {
   "cell_type": "markdown",
   "metadata": {},
   "source": [
    "## 1.2 Examine and clean data"
   ]
  },
  {
   "cell_type": "code",
   "execution_count": 5,
   "metadata": {},
   "outputs": [
    {
     "data": {
      "text/html": [
       "<div>\n",
       "<style scoped>\n",
       "    .dataframe tbody tr th:only-of-type {\n",
       "        vertical-align: middle;\n",
       "    }\n",
       "\n",
       "    .dataframe tbody tr th {\n",
       "        vertical-align: top;\n",
       "    }\n",
       "\n",
       "    .dataframe thead th {\n",
       "        text-align: right;\n",
       "    }\n",
       "</style>\n",
       "<table border=\"1\" class=\"dataframe\">\n",
       "  <thead>\n",
       "    <tr style=\"text-align: right;\">\n",
       "      <th></th>\n",
       "      <th>diagnosis</th>\n",
       "      <th>radius_mean</th>\n",
       "      <th>texture_mean</th>\n",
       "      <th>perimeter_mean</th>\n",
       "      <th>area_mean</th>\n",
       "      <th>smoothness_mean</th>\n",
       "      <th>compactness_mean</th>\n",
       "      <th>concavity_mean</th>\n",
       "      <th>concave points_mean</th>\n",
       "      <th>symmetry_mean</th>\n",
       "      <th>...</th>\n",
       "      <th>radius_worst</th>\n",
       "      <th>texture_worst</th>\n",
       "      <th>perimeter_worst</th>\n",
       "      <th>area_worst</th>\n",
       "      <th>smoothness_worst</th>\n",
       "      <th>compactness_worst</th>\n",
       "      <th>concavity_worst</th>\n",
       "      <th>concave points_worst</th>\n",
       "      <th>symmetry_worst</th>\n",
       "      <th>fractal_dimension_worst</th>\n",
       "    </tr>\n",
       "  </thead>\n",
       "  <tbody>\n",
       "    <tr>\n",
       "      <th>0</th>\n",
       "      <td>-1</td>\n",
       "      <td>17.99</td>\n",
       "      <td>10.38</td>\n",
       "      <td>122.80</td>\n",
       "      <td>1001.0</td>\n",
       "      <td>0.11840</td>\n",
       "      <td>0.27760</td>\n",
       "      <td>0.30010</td>\n",
       "      <td>0.14710</td>\n",
       "      <td>0.2419</td>\n",
       "      <td>...</td>\n",
       "      <td>25.380</td>\n",
       "      <td>17.33</td>\n",
       "      <td>184.60</td>\n",
       "      <td>2019.0</td>\n",
       "      <td>0.16220</td>\n",
       "      <td>0.66560</td>\n",
       "      <td>0.7119</td>\n",
       "      <td>0.2654</td>\n",
       "      <td>0.4601</td>\n",
       "      <td>0.11890</td>\n",
       "    </tr>\n",
       "    <tr>\n",
       "      <th>1</th>\n",
       "      <td>-1</td>\n",
       "      <td>20.57</td>\n",
       "      <td>17.77</td>\n",
       "      <td>132.90</td>\n",
       "      <td>1326.0</td>\n",
       "      <td>0.08474</td>\n",
       "      <td>0.07864</td>\n",
       "      <td>0.08690</td>\n",
       "      <td>0.07017</td>\n",
       "      <td>0.1812</td>\n",
       "      <td>...</td>\n",
       "      <td>24.990</td>\n",
       "      <td>23.41</td>\n",
       "      <td>158.80</td>\n",
       "      <td>1956.0</td>\n",
       "      <td>0.12380</td>\n",
       "      <td>0.18660</td>\n",
       "      <td>0.2416</td>\n",
       "      <td>0.1860</td>\n",
       "      <td>0.2750</td>\n",
       "      <td>0.08902</td>\n",
       "    </tr>\n",
       "    <tr>\n",
       "      <th>2</th>\n",
       "      <td>-1</td>\n",
       "      <td>19.69</td>\n",
       "      <td>21.25</td>\n",
       "      <td>130.00</td>\n",
       "      <td>1203.0</td>\n",
       "      <td>0.10960</td>\n",
       "      <td>0.15990</td>\n",
       "      <td>0.19740</td>\n",
       "      <td>0.12790</td>\n",
       "      <td>0.2069</td>\n",
       "      <td>...</td>\n",
       "      <td>23.570</td>\n",
       "      <td>25.53</td>\n",
       "      <td>152.50</td>\n",
       "      <td>1709.0</td>\n",
       "      <td>0.14440</td>\n",
       "      <td>0.42450</td>\n",
       "      <td>0.4504</td>\n",
       "      <td>0.2430</td>\n",
       "      <td>0.3613</td>\n",
       "      <td>0.08758</td>\n",
       "    </tr>\n",
       "    <tr>\n",
       "      <th>3</th>\n",
       "      <td>-1</td>\n",
       "      <td>11.42</td>\n",
       "      <td>20.38</td>\n",
       "      <td>77.58</td>\n",
       "      <td>386.1</td>\n",
       "      <td>0.14250</td>\n",
       "      <td>0.28390</td>\n",
       "      <td>0.24140</td>\n",
       "      <td>0.10520</td>\n",
       "      <td>0.2597</td>\n",
       "      <td>...</td>\n",
       "      <td>14.910</td>\n",
       "      <td>26.50</td>\n",
       "      <td>98.87</td>\n",
       "      <td>567.7</td>\n",
       "      <td>0.20980</td>\n",
       "      <td>0.86630</td>\n",
       "      <td>0.6869</td>\n",
       "      <td>0.2575</td>\n",
       "      <td>0.6638</td>\n",
       "      <td>0.17300</td>\n",
       "    </tr>\n",
       "    <tr>\n",
       "      <th>4</th>\n",
       "      <td>-1</td>\n",
       "      <td>20.29</td>\n",
       "      <td>14.34</td>\n",
       "      <td>135.10</td>\n",
       "      <td>1297.0</td>\n",
       "      <td>0.10030</td>\n",
       "      <td>0.13280</td>\n",
       "      <td>0.19800</td>\n",
       "      <td>0.10430</td>\n",
       "      <td>0.1809</td>\n",
       "      <td>...</td>\n",
       "      <td>22.540</td>\n",
       "      <td>16.67</td>\n",
       "      <td>152.20</td>\n",
       "      <td>1575.0</td>\n",
       "      <td>0.13740</td>\n",
       "      <td>0.20500</td>\n",
       "      <td>0.4000</td>\n",
       "      <td>0.1625</td>\n",
       "      <td>0.2364</td>\n",
       "      <td>0.07678</td>\n",
       "    </tr>\n",
       "    <tr>\n",
       "      <th>...</th>\n",
       "      <td>...</td>\n",
       "      <td>...</td>\n",
       "      <td>...</td>\n",
       "      <td>...</td>\n",
       "      <td>...</td>\n",
       "      <td>...</td>\n",
       "      <td>...</td>\n",
       "      <td>...</td>\n",
       "      <td>...</td>\n",
       "      <td>...</td>\n",
       "      <td>...</td>\n",
       "      <td>...</td>\n",
       "      <td>...</td>\n",
       "      <td>...</td>\n",
       "      <td>...</td>\n",
       "      <td>...</td>\n",
       "      <td>...</td>\n",
       "      <td>...</td>\n",
       "      <td>...</td>\n",
       "      <td>...</td>\n",
       "      <td>...</td>\n",
       "    </tr>\n",
       "    <tr>\n",
       "      <th>564</th>\n",
       "      <td>-1</td>\n",
       "      <td>21.56</td>\n",
       "      <td>22.39</td>\n",
       "      <td>142.00</td>\n",
       "      <td>1479.0</td>\n",
       "      <td>0.11100</td>\n",
       "      <td>0.11590</td>\n",
       "      <td>0.24390</td>\n",
       "      <td>0.13890</td>\n",
       "      <td>0.1726</td>\n",
       "      <td>...</td>\n",
       "      <td>25.450</td>\n",
       "      <td>26.40</td>\n",
       "      <td>166.10</td>\n",
       "      <td>2027.0</td>\n",
       "      <td>0.14100</td>\n",
       "      <td>0.21130</td>\n",
       "      <td>0.4107</td>\n",
       "      <td>0.2216</td>\n",
       "      <td>0.2060</td>\n",
       "      <td>0.07115</td>\n",
       "    </tr>\n",
       "    <tr>\n",
       "      <th>565</th>\n",
       "      <td>-1</td>\n",
       "      <td>20.13</td>\n",
       "      <td>28.25</td>\n",
       "      <td>131.20</td>\n",
       "      <td>1261.0</td>\n",
       "      <td>0.09780</td>\n",
       "      <td>0.10340</td>\n",
       "      <td>0.14400</td>\n",
       "      <td>0.09791</td>\n",
       "      <td>0.1752</td>\n",
       "      <td>...</td>\n",
       "      <td>23.690</td>\n",
       "      <td>38.25</td>\n",
       "      <td>155.00</td>\n",
       "      <td>1731.0</td>\n",
       "      <td>0.11660</td>\n",
       "      <td>0.19220</td>\n",
       "      <td>0.3215</td>\n",
       "      <td>0.1628</td>\n",
       "      <td>0.2572</td>\n",
       "      <td>0.06637</td>\n",
       "    </tr>\n",
       "    <tr>\n",
       "      <th>566</th>\n",
       "      <td>-1</td>\n",
       "      <td>16.60</td>\n",
       "      <td>28.08</td>\n",
       "      <td>108.30</td>\n",
       "      <td>858.1</td>\n",
       "      <td>0.08455</td>\n",
       "      <td>0.10230</td>\n",
       "      <td>0.09251</td>\n",
       "      <td>0.05302</td>\n",
       "      <td>0.1590</td>\n",
       "      <td>...</td>\n",
       "      <td>18.980</td>\n",
       "      <td>34.12</td>\n",
       "      <td>126.70</td>\n",
       "      <td>1124.0</td>\n",
       "      <td>0.11390</td>\n",
       "      <td>0.30940</td>\n",
       "      <td>0.3403</td>\n",
       "      <td>0.1418</td>\n",
       "      <td>0.2218</td>\n",
       "      <td>0.07820</td>\n",
       "    </tr>\n",
       "    <tr>\n",
       "      <th>567</th>\n",
       "      <td>-1</td>\n",
       "      <td>20.60</td>\n",
       "      <td>29.33</td>\n",
       "      <td>140.10</td>\n",
       "      <td>1265.0</td>\n",
       "      <td>0.11780</td>\n",
       "      <td>0.27700</td>\n",
       "      <td>0.35140</td>\n",
       "      <td>0.15200</td>\n",
       "      <td>0.2397</td>\n",
       "      <td>...</td>\n",
       "      <td>25.740</td>\n",
       "      <td>39.42</td>\n",
       "      <td>184.60</td>\n",
       "      <td>1821.0</td>\n",
       "      <td>0.16500</td>\n",
       "      <td>0.86810</td>\n",
       "      <td>0.9387</td>\n",
       "      <td>0.2650</td>\n",
       "      <td>0.4087</td>\n",
       "      <td>0.12400</td>\n",
       "    </tr>\n",
       "    <tr>\n",
       "      <th>568</th>\n",
       "      <td>1</td>\n",
       "      <td>7.76</td>\n",
       "      <td>24.54</td>\n",
       "      <td>47.92</td>\n",
       "      <td>181.0</td>\n",
       "      <td>0.05263</td>\n",
       "      <td>0.04362</td>\n",
       "      <td>0.00000</td>\n",
       "      <td>0.00000</td>\n",
       "      <td>0.1587</td>\n",
       "      <td>...</td>\n",
       "      <td>9.456</td>\n",
       "      <td>30.37</td>\n",
       "      <td>59.16</td>\n",
       "      <td>268.6</td>\n",
       "      <td>0.08996</td>\n",
       "      <td>0.06444</td>\n",
       "      <td>0.0000</td>\n",
       "      <td>0.0000</td>\n",
       "      <td>0.2871</td>\n",
       "      <td>0.07039</td>\n",
       "    </tr>\n",
       "  </tbody>\n",
       "</table>\n",
       "<p>569 rows × 31 columns</p>\n",
       "</div>"
      ],
      "text/plain": [
       "     diagnosis  radius_mean  texture_mean  perimeter_mean  area_mean  \\\n",
       "0           -1        17.99         10.38          122.80     1001.0   \n",
       "1           -1        20.57         17.77          132.90     1326.0   \n",
       "2           -1        19.69         21.25          130.00     1203.0   \n",
       "3           -1        11.42         20.38           77.58      386.1   \n",
       "4           -1        20.29         14.34          135.10     1297.0   \n",
       "..         ...          ...           ...             ...        ...   \n",
       "564         -1        21.56         22.39          142.00     1479.0   \n",
       "565         -1        20.13         28.25          131.20     1261.0   \n",
       "566         -1        16.60         28.08          108.30      858.1   \n",
       "567         -1        20.60         29.33          140.10     1265.0   \n",
       "568          1         7.76         24.54           47.92      181.0   \n",
       "\n",
       "     smoothness_mean  compactness_mean  concavity_mean  concave points_mean  \\\n",
       "0            0.11840           0.27760         0.30010              0.14710   \n",
       "1            0.08474           0.07864         0.08690              0.07017   \n",
       "2            0.10960           0.15990         0.19740              0.12790   \n",
       "3            0.14250           0.28390         0.24140              0.10520   \n",
       "4            0.10030           0.13280         0.19800              0.10430   \n",
       "..               ...               ...             ...                  ...   \n",
       "564          0.11100           0.11590         0.24390              0.13890   \n",
       "565          0.09780           0.10340         0.14400              0.09791   \n",
       "566          0.08455           0.10230         0.09251              0.05302   \n",
       "567          0.11780           0.27700         0.35140              0.15200   \n",
       "568          0.05263           0.04362         0.00000              0.00000   \n",
       "\n",
       "     symmetry_mean  ...  radius_worst  texture_worst  perimeter_worst  \\\n",
       "0           0.2419  ...        25.380          17.33           184.60   \n",
       "1           0.1812  ...        24.990          23.41           158.80   \n",
       "2           0.2069  ...        23.570          25.53           152.50   \n",
       "3           0.2597  ...        14.910          26.50            98.87   \n",
       "4           0.1809  ...        22.540          16.67           152.20   \n",
       "..             ...  ...           ...            ...              ...   \n",
       "564         0.1726  ...        25.450          26.40           166.10   \n",
       "565         0.1752  ...        23.690          38.25           155.00   \n",
       "566         0.1590  ...        18.980          34.12           126.70   \n",
       "567         0.2397  ...        25.740          39.42           184.60   \n",
       "568         0.1587  ...         9.456          30.37            59.16   \n",
       "\n",
       "     area_worst  smoothness_worst  compactness_worst  concavity_worst  \\\n",
       "0        2019.0           0.16220            0.66560           0.7119   \n",
       "1        1956.0           0.12380            0.18660           0.2416   \n",
       "2        1709.0           0.14440            0.42450           0.4504   \n",
       "3         567.7           0.20980            0.86630           0.6869   \n",
       "4        1575.0           0.13740            0.20500           0.4000   \n",
       "..          ...               ...                ...              ...   \n",
       "564      2027.0           0.14100            0.21130           0.4107   \n",
       "565      1731.0           0.11660            0.19220           0.3215   \n",
       "566      1124.0           0.11390            0.30940           0.3403   \n",
       "567      1821.0           0.16500            0.86810           0.9387   \n",
       "568       268.6           0.08996            0.06444           0.0000   \n",
       "\n",
       "     concave points_worst  symmetry_worst  fractal_dimension_worst  \n",
       "0                  0.2654          0.4601                  0.11890  \n",
       "1                  0.1860          0.2750                  0.08902  \n",
       "2                  0.2430          0.3613                  0.08758  \n",
       "3                  0.2575          0.6638                  0.17300  \n",
       "4                  0.1625          0.2364                  0.07678  \n",
       "..                    ...             ...                      ...  \n",
       "564                0.2216          0.2060                  0.07115  \n",
       "565                0.1628          0.2572                  0.06637  \n",
       "566                0.1418          0.2218                  0.07820  \n",
       "567                0.2650          0.4087                  0.12400  \n",
       "568                0.0000          0.2871                  0.07039  \n",
       "\n",
       "[569 rows x 31 columns]"
      ]
     },
     "execution_count": 5,
     "metadata": {},
     "output_type": "execute_result"
    }
   ],
   "source": [
    "# Some columns may not be useful for the model (For example, the first column contains ID number which may be irrelavant). \n",
    "# You need to get rid of the ID number feature.\n",
    "# Also you should transform target labels in the second column from 'B' and 'M' to 1 and -1.\n",
    "df = pd.read_csv('data.csv')\n",
    "df['diagnosis'] = df['diagnosis'].replace('B', 1)\n",
    "df['diagnosis'] = df['diagnosis'].replace('M', -1)\n",
    "del df['id']\n",
    "del df['Unnamed: 32']\n",
    "df  \n",
    "\n"
   ]
  },
  {
   "cell_type": "markdown",
   "metadata": {},
   "source": [
    "## 1.3. Partition to training and testing sets"
   ]
  },
  {
   "cell_type": "code",
   "execution_count": 6,
   "metadata": {},
   "outputs": [],
   "source": [
    "# You can partition using 80% training data and 20% testing data. It is a commonly used ratio in machine learning.\n",
    "x_train, x_test, y_train, y_test = train_test_split(df[df.columns[1:]], df['diagnosis'], test_size=0.2, random_state=0)\n",
    "x_train = x_train.values\n",
    "x_test = x_test.values\n",
    "y_train = y_train.values\n",
    "y_test = y_test.values"
   ]
  },
  {
   "cell_type": "markdown",
   "metadata": {},
   "source": [
    "## 1.4. Feature scaling"
   ]
  },
  {
   "cell_type": "markdown",
   "metadata": {},
   "source": [
    "Use the standardization to transform both training and test features"
   ]
  },
  {
   "cell_type": "code",
   "execution_count": 7,
   "metadata": {},
   "outputs": [
    {
     "name": "stdout",
     "output_type": "stream",
     "text": [
      "test mean = \n",
      "[ 0.02090745  0.16431943  0.03098111  0.01492717 -0.01921133  0.10117201\n",
      "  0.08443932  0.02966041  0.04062134  0.09494587  0.04653776  0.06428674\n",
      "  0.10007498  0.00538732  0.06601984  0.11839521  0.0676146   0.1268942\n",
      "  0.01037956  0.16193656  0.01337734  0.1134187   0.03390329 -0.00517026\n",
      " -0.02001553  0.07842781  0.11756424  0.01212816 -0.02700714  0.12744666]\n",
      "test std = \n",
      "[0.98484027 1.15221324 0.99783436 0.91061412 1.0932457  1.2099472\n",
      " 1.1161288  1.0269985  1.00338544 1.16387855 0.86929628 1.0858163\n",
      " 0.95737985 0.73797557 1.25342805 1.10484161 0.84117872 1.20913453\n",
      " 1.04276269 1.05856313 0.94112163 1.03290181 0.96071251 0.84629366\n",
      " 1.04566915 1.12995399 1.20449902 1.03206998 0.90827971 1.06240744]\n"
     ]
    }
   ],
   "source": [
    "# Standardization\n",
    "import numpy\n",
    "\n",
    "# calculate mu and sig using the training set\n",
    "d = x_train.shape[1]\n",
    "mu = numpy.mean(x_train, axis=0).reshape(1, d)\n",
    "sig = numpy.std(x_train, axis=0).reshape(1, d)\n",
    "\n",
    "# transform the training features\n",
    "x_train = (x_train - mu) / (sig + 1E-6)\n",
    "\n",
    "# transform the test features\n",
    "x_test = (x_test - mu) / (sig + 1E-6)\n",
    "\n",
    "print('test mean = ')\n",
    "print(numpy.mean(x_test, axis=0))\n",
    "\n",
    "print('test std = ')\n",
    "print(numpy.std(x_test, axis=0))\n",
    "\n",
    "# concatenate a column of 1s to the training features\n",
    "x_train = numpy.concatenate((x_train, numpy.ones((x_train.shape[\n",
    "    0], 1))), axis=1)\n",
    "\n",
    "# concatenate a column of 1s to the test features\n",
    "x_test = numpy.concatenate((x_test, numpy.ones((x_test.shape[\n",
    "    0], 1))), axis=1)\n"
   ]
  },
  {
   "cell_type": "code",
   "execution_count": 8,
   "metadata": {},
   "outputs": [
    {
     "name": "stdout",
     "output_type": "stream",
     "text": [
      "(455, 31)\n"
     ]
    }
   ],
   "source": [
    "print(x_train.shape)"
   ]
  },
  {
   "cell_type": "markdown",
   "metadata": {},
   "source": [
    "# 2.  Logistic Regression Model\n",
    "\n",
    "The objective function is $Q (w; X, y) = \\frac{1}{n} \\sum_{i=1}^n \\log \\Big( 1 + \\exp \\big( - y_i x_i^T w \\big) \\Big) + \\frac{\\lambda}{2} \\| w \\|_2^2 $.\n",
    "\n",
    "When $\\lambda = 0$, the model is a regular logistic regression and when $\\lambda > 0$, it essentially becomes a regularized logistic regression."
   ]
  },
  {
   "cell_type": "code",
   "execution_count": 9,
   "metadata": {},
   "outputs": [],
   "source": [
    "w = np.random.rand(30,)"
   ]
  },
  {
   "cell_type": "code",
   "execution_count": 10,
   "metadata": {},
   "outputs": [],
   "source": [
    "# Calculate the objective function value, or loss\n",
    "# Inputs:\n",
    "#     w: weight: d-by-1 matrix\n",
    "#     x: data: n-by-d matrix\n",
    "#     y: label: n-by-1 matrix\n",
    "#     lam: regularization parameter: scalar\n",
    "# Return:\n",
    "#     objective function value, or loss (scalar)\n",
    "def objective(w, x, y, lam):\n",
    "    n = x.shape[0]\n",
    "    objective = 0\n",
    "    \n",
    "    for i in range(n):\n",
    "        objective += np.log(1 + np.exp(np.dot(-np.dot(y[i], np.transpose(x[i,:])), w)))\n",
    "    \n",
    "    objective /= n\n",
    "    objective += (lam/2) * np.linalg.norm(w)**2\n",
    "    \n",
    "    return objective\n",
    "\n"
   ]
  },
  {
   "cell_type": "markdown",
   "metadata": {},
   "source": [
    "# 3. Numerical optimization"
   ]
  },
  {
   "cell_type": "markdown",
   "metadata": {},
   "source": [
    "## 3.1. Gradient descent\n"
   ]
  },
  {
   "cell_type": "markdown",
   "metadata": {},
   "source": [
    "The gradient at $w$ for regularized logistic regression is  $g = - \\frac{1}{n} \\sum_{i=1}^n \\frac{y_i x_i }{1 + \\exp ( y_i x_i^T w)} + \\lambda w$"
   ]
  },
  {
   "cell_type": "code",
   "execution_count": 11,
   "metadata": {},
   "outputs": [],
   "source": [
    "# Calculate the gradient\n",
    "# Inputs:\n",
    "#     w: weight: d-by-1 matrix\n",
    "#     x: data: n-by-d matrix\n",
    "#     y: label: n-by-1 matrix\n",
    "#     lam: regularization parameter: scalar\n",
    "# Return:\n",
    "#     g: gradient: d-by-1 matrix\n",
    "\n",
    "def gradient(w, x, y, lam):\n",
    "    n = x.shape[0]\n",
    "    d = x.shape[1]\n",
    "    gradient = 0\n",
    "\n",
    "    for i in range(n):\n",
    "        gradient += (np.dot(y[i], x[i,:]))/(1 + np.exp(np.dot(np.dot(y[i], np.transpose(x[i,:])), w)))\n",
    "    \n",
    "    gradient *= (-1/n)\n",
    "    gradient = gradient.reshape(d,1)\n",
    "    gradient += lam * w\n",
    "    \n",
    "    return gradient\n",
    "\n"
   ]
  },
  {
   "cell_type": "code",
   "execution_count": 12,
   "metadata": {},
   "outputs": [],
   "source": [
    "# Gradient descent for solving logistic regression\n",
    "# You will need to do iterative processes (loops) to obtain optimal weights in this function\n",
    "\n",
    "# Inputs:\n",
    "#     x: data: n-by-d matrix\n",
    "#     y: label: n-by-1 matrix\n",
    "#     lam: scalar, the regularization parameter\n",
    "#     learning_rate: scalar\n",
    "#     w: weights: d-by-1 matrix, initialization of w\n",
    "#     max_epoch: integer, the maximal epochs\n",
    "# Return:\n",
    "#     w: weights: d-by-1 matrix, the solution\n",
    "#     objvals: a record of each epoch's objective value\n",
    "\n",
    "def gradient_descent(x, y, lam, learning_rate, w, max_epoch=100):\n",
    "    objv = np.zeros(max_epoch)\n",
    "    n = x.shape[0]\n",
    "\n",
    "    for epoch in range(max_epoch):\n",
    "        g = gradient(w,x,y,lam)\n",
    "        w = w - learning_rate*g\n",
    "        objv[epoch] = objective(w,x,y,lam)\n",
    "    \n",
    "    return w, objv\n",
    "\n",
    "\n"
   ]
  },
  {
   "cell_type": "markdown",
   "metadata": {},
   "source": [
    "Use gradient_descent function to obtain your optimal weights and a list of objective values over each epoch."
   ]
  },
  {
   "cell_type": "code",
   "execution_count": 13,
   "metadata": {},
   "outputs": [],
   "source": [
    "# Train logistic regression\n",
    "# You should get the optimal weights and a list of objective values by using gradient_descent function.\n",
    "# w = np.random.rand(31,1)\n",
    "w = np.zeros((31, 1))\n",
    "w, obj_vals = gradient_descent(x_train, y_train, 0.0, .01, w, 1000)\n"
   ]
  },
  {
   "cell_type": "code",
   "execution_count": 14,
   "metadata": {},
   "outputs": [],
   "source": [
    "# Train regularized logistic regression\n",
    "# You should get the optimal weights and a list of objective values by using gradient_descent function.\n",
    "w = np.random.rand(31,1)\n",
    "w, obj_vals = gradient_descent(x_train, y_train, .05, .01, w, 1000)"
   ]
  },
  {
   "cell_type": "markdown",
   "metadata": {},
   "source": [
    "## 3.2. Stochastic gradient descent (SGD)\n",
    "\n",
    "Define new objective function $Q_i (w) = \\log \\Big( 1 + \\exp \\big( - y_i x_i^T w \\big) \\Big) + \\frac{\\lambda}{2} \\| w \\|_2^2 $. \n",
    "\n",
    "The stochastic gradient at $w$ is $g_i = \\frac{\\partial Q_i }{ \\partial w} = -\\frac{y_i x_i }{1 + \\exp ( y_i x_i^T w)} + \\lambda w$.\n",
    "\n",
    "You may need to implement a new function to calculate the new objective function and gradients."
   ]
  },
  {
   "cell_type": "code",
   "execution_count": 15,
   "metadata": {},
   "outputs": [],
   "source": [
    "# Calculate the objective Q_i and the gradient of Q_i\n",
    "# Inputs:\n",
    "#     w: weights: d-by-1 matrix\n",
    "#     xi: data: 1-by-d matrix\n",
    "#     yi: label: scalar\n",
    "#     lam: scalar, the regularization parameter\n",
    "# Return:\n",
    "#     obj: scalar, the objective Q_i\n",
    "#     g: d-by-1 matrix, gradient of Q_i\n",
    "\n",
    "def stochastic_objective_gradient(w, xi, yi, lam):\n",
    "    objective = np.log(1 + np.exp(-yi * xi.T @ w)) + (lam/2) * np.linalg.norm(w)**2\n",
    "    \n",
    "    d = xi.shape[0]\n",
    "\n",
    "    numerator = yi * xi\n",
    "    denominator = 1 + np.exp(yi * xi.T @ w)\n",
    "    grad = numerator / denominator\n",
    "    grad *= -1\n",
    "    grad += (lam * w).reshape((d,))\n",
    "\n",
    "    return objective, grad\n",
    "\n",
    "\n"
   ]
  },
  {
   "cell_type": "markdown",
   "metadata": {},
   "source": [
    "Hints:\n",
    "1. In every epoch, randomly permute the $n$ samples.\n",
    "2. Each epoch has $n$ iterations. In every iteration, use 1 sample, and compute the gradient and objective using the ``stochastic_objective_gradient`` function. In the next iteration, use the next sample, and so on."
   ]
  },
  {
   "cell_type": "code",
   "execution_count": 16,
   "metadata": {},
   "outputs": [],
   "source": [
    "# SGD for solving logistic regression\n",
    "# You will need to do iterative process (loops) to obtain optimal weights in this function\n",
    "\n",
    "# Inputs:\n",
    "#     x: data: n-by-d matrix\n",
    "#     y: label: n-by-1 matrix\n",
    "#     lam: scalar, the regularization parameter\n",
    "#     learning_rate: scalar\n",
    "#     w: weights: d-by-1 matrix, initialization of w\n",
    "#     max_epoch: integer, the maximal epochs\n",
    "# Return:\n",
    "#     \n",
    "#     w: weights: d-by-1 matrix, the solution\n",
    "#     objvals: a record of each epoch's objective value\n",
    "#     Record one objective value per epoch (not per iteration)\n",
    "\n",
    "def sgd(x, y, lam, learning_rate, w, max_epoch=100):\n",
    "    n = x.shape[0]\n",
    "    objvals = np.zeros(max_epoch)\n",
    "    print()\n",
    "\n",
    "    for epoch in range(max_epoch):\n",
    "        ind = np.random.permutation(n)\n",
    "        avg_obj = 0\n",
    "\n",
    "        for i in ind:\n",
    "            o, g = stochastic_objective_gradient(w, x[i], y[i], lam)\n",
    "            w -= (learning_rate * g)\n",
    "            avg_obj += o\n",
    "\n",
    "        objvals[epoch] = avg_obj / n\n",
    "\n",
    "    return w, objvals\n"
   ]
  },
  {
   "cell_type": "markdown",
   "metadata": {},
   "source": [
    "Use sgd function to obtain your optimal weights and a list of objective values over each epoch."
   ]
  },
  {
   "cell_type": "code",
   "execution_count": 17,
   "metadata": {},
   "outputs": [
    {
     "name": "stdout",
     "output_type": "stream",
     "text": [
      "\n"
     ]
    },
    {
     "data": {
      "text/plain": [
       "array([0.33694818, 0.08422584, 0.07390386, 0.06886077, 0.06530684,\n",
       "       0.06415519, 0.06190099, 0.0612671 , 0.06007526, 0.0588768 ,\n",
       "       0.05827734, 0.05751534, 0.05662927, 0.05679791, 0.05516771,\n",
       "       0.05657651, 0.05537064, 0.05592295, 0.05503373, 0.05429777,\n",
       "       0.05452997, 0.05402134, 0.05315746, 0.05352078, 0.05300224,\n",
       "       0.05247303, 0.05209278, 0.05249264, 0.05235298, 0.05131033,\n",
       "       0.05244401, 0.0513103 , 0.05119674, 0.05075331, 0.05082736,\n",
       "       0.05023289, 0.05102979, 0.05026819, 0.0493973 , 0.04985517,\n",
       "       0.05011053, 0.04969121, 0.04961308, 0.04992825, 0.04941379,\n",
       "       0.0493128 , 0.04867497, 0.04872797, 0.04930109, 0.04882245,\n",
       "       0.0484662 , 0.04843091, 0.04894157, 0.04765969, 0.04836404,\n",
       "       0.04832286, 0.0481309 , 0.04912111, 0.04804676, 0.04766538,\n",
       "       0.04707493, 0.04803423, 0.04678783, 0.04697895, 0.04710782,\n",
       "       0.04682996, 0.04686649, 0.04738822, 0.04651096, 0.04652241,\n",
       "       0.04660632, 0.04615193, 0.04672297, 0.04636519, 0.04570636,\n",
       "       0.04738491, 0.0459155 , 0.04542738, 0.0458248 , 0.04516432,\n",
       "       0.0466435 , 0.04566585, 0.04563277, 0.04518748, 0.04531398,\n",
       "       0.04472095, 0.04549366, 0.04541983, 0.04525671, 0.04518264,\n",
       "       0.04461945, 0.04519945, 0.04499338, 0.04528889, 0.04452143,\n",
       "       0.04420921, 0.04465668, 0.04458134, 0.04413073, 0.04425179])"
      ]
     },
     "execution_count": 17,
     "metadata": {},
     "output_type": "execute_result"
    }
   ],
   "source": [
    "# Train logistic regression\n",
    "# You should get the optimal weights and a list of objective values by using gradient_descent function.\n",
    "w = np.random.rand(31,)\n",
    "w, obj_vals = sgd(x_train, y_train, 0, .05, w, 100)\n",
    "obj_vals\n"
   ]
  },
  {
   "cell_type": "code",
   "execution_count": 18,
   "metadata": {},
   "outputs": [
    {
     "name": "stdout",
     "output_type": "stream",
     "text": [
      "\n",
      "[0.38029349 0.17269523 0.17305095 0.17269614 0.17334931 0.17319629\n",
      " 0.17044546 0.17846374 0.17229202 0.17190153 0.17237771 0.17251112\n",
      " 0.17266379 0.17151534 0.17098128 0.17334607 0.17185932 0.17186228\n",
      " 0.169102   0.1733332  0.17069251 0.17144171 0.17432316 0.17063789\n",
      " 0.17191938 0.17393521 0.17165416 0.17397659 0.17145008 0.17187606\n",
      " 0.17306446 0.17148871 0.17331715 0.16986416 0.16896565 0.1725156\n",
      " 0.17199664 0.17071453 0.172571   0.1726442  0.17284729 0.17368309\n",
      " 0.17228215 0.17174609 0.17240688 0.17099464 0.17120941 0.17353478\n",
      " 0.17170724 0.17106771 0.17362304 0.17364456 0.17369473 0.17207446\n",
      " 0.17337218 0.17269261 0.17064695 0.17089524 0.17346482 0.17170963\n",
      " 0.17184879 0.17188733 0.17223654 0.17153293 0.17049207 0.17183193\n",
      " 0.17263751 0.17172628 0.17327808 0.17117725 0.1718113  0.17280886\n",
      " 0.17209721 0.17277617 0.17127064 0.17213299 0.17205797 0.17318613\n",
      " 0.17301816 0.17275236 0.17320571 0.17096422 0.1728436  0.17069638\n",
      " 0.17242333 0.17144386 0.17105756 0.17089387 0.17270879 0.17189927\n",
      " 0.17145829 0.171049   0.17228082 0.17195942 0.17239877 0.17229333\n",
      " 0.17264804 0.17084469 0.17266967 0.17258132]\n"
     ]
    }
   ],
   "source": [
    "# Train regularized logistic regression\n",
    "# You should get the optimal weights and a list of objective values by using gradient_descent function.\n",
    "w = np.random.rand(31,)\n",
    "w, obj_vals = sgd(x_train, y_train, .05, .05, w, 100)\n",
    "print(obj_vals)\n"
   ]
  },
  {
   "cell_type": "markdown",
   "metadata": {},
   "source": [
    "## 3.3 Mini-Batch Gradient Descent (MBGD)"
   ]
  },
  {
   "cell_type": "markdown",
   "metadata": {},
   "source": [
    "Define $Q_I (w) = \\frac{1}{b} \\sum_{i \\in I} \\log \\Big( 1 + \\exp \\big( - y_i x_i^T w \\big) \\Big) + \\frac{\\lambda}{2} \\| w \\|_2^2 $, where $I$ is a set containing $b$ indices randomly drawn from $\\{ 1, \\cdots , n \\}$ without replacement.\n",
    "\n",
    "The stochastic gradient at $w$ is $g_I = \\frac{\\partial Q_I }{ \\partial w} = \\frac{1}{b} \\sum_{i \\in I} \\frac{- y_i x_i }{1 + \\exp ( y_i x_i^T w)} + \\lambda w$.\n",
    "\n",
    "You may need to implement a new function to calculate the new objective function and gradients."
   ]
  },
  {
   "cell_type": "code",
   "execution_count": 19,
   "metadata": {},
   "outputs": [],
   "source": [
    "# Calculate the objective Q_I and the gradient of Q_I\n",
    "# Inputs:\n",
    "#     w: weights: d-by-b matrix\n",
    "#     xi: data: b-by-d matrix\n",
    "#     yi: label: scalar\n",
    "#     lam: scalar, the regularization parameter\n",
    "# Return:\n",
    "#     obj: scalar, the objective Q_i\n",
    "#     g: d-by-1 matrix, gradient of Q_i\n",
    "\n",
    "def mb_objective_gradient(w, xi, yi, lam):\n",
    "    b = xi.shape[0]\n",
    "    objective = 0\n",
    "    grad = np.zeros(31,)\n",
    "\n",
    "    for i in range(b):\n",
    "        objective += np.log(1 + np.exp(np.dot(np.dot(-yi[i], np.transpose(xi[i])),w)))\n",
    "        numerator = np.dot(-yi[i], xi[i])\n",
    "        denominator = 1 + np.exp(yi[i] * xi[i].T @ w)\n",
    "        grad += numerator / denominator\n",
    "    \n",
    "    objective /= b\n",
    "    objective += (lam/2) * np.linalg.norm(w)**2\n",
    "    grad /= b\n",
    "    grad += (lam * w)\n",
    "    return objective, grad\n",
    "\n"
   ]
  },
  {
   "cell_type": "markdown",
   "metadata": {},
   "source": [
    "Hints:\n",
    "1. In every epoch, randomly permute the $n$ samples (just like SGD).\n",
    "2. Each epoch has $\\frac{n}{b}$ iterations. In every iteration, use $b$ samples, and compute the gradient and objective using the ``mb_objective_gradient`` function. In the next iteration, use the next $b$ samples, and so on."
   ]
  },
  {
   "cell_type": "code",
   "execution_count": 20,
   "metadata": {},
   "outputs": [],
   "source": [
    "# MBGD for solving logistic regression\n",
    "# You will need to do iterative process (loops) to obtain optimal weights in this function\n",
    "\n",
    "# Inputs:\n",
    "#     x: data: n-by-d matrix\n",
    "#     y: label: n-by-1 matrix\n",
    "#     lam: scalar, the regularization parameter\n",
    "#     learning_rate: scalar\n",
    "#     w: weights: d-by-1 matrix, initialization of w\n",
    "#     max_epoch: integer, the maximal epochs\n",
    "# Return:\n",
    "#     w: weights: d-by-1 matrix, the solution\n",
    "#     objvals: a record of each epoch's objective value\n",
    "#     Record one objective value per epoch (not per iteration)\n",
    "\n",
    "def mbgd(x, y, lam, learning_rate, w, max_epoch=100):\n",
    "    n = x.shape[0]\n",
    "    objvals = np.zeros(max_epoch)\n",
    "    b = 20\n",
    "\n",
    "    for epoch in range(max_epoch):\n",
    "        ind = np.random.permutation(n)\n",
    "        avg_obj = 0\n",
    "\n",
    "        for i in ind:\n",
    "            o, g = mb_objective_gradient(w, x[i:i+b], y[i:i+b], lam)\n",
    "            w = w - learning_rate * g\n",
    "            avg_obj += o\n",
    "\n",
    "        objvals[epoch] = avg_obj / b  \n",
    "\n",
    "    return w, objvals\n"
   ]
  },
  {
   "cell_type": "markdown",
   "metadata": {},
   "source": [
    "Use mbgd function to obtain your optimal weights and a list of objective values over each epoch."
   ]
  },
  {
   "cell_type": "code",
   "execution_count": 21,
   "metadata": {},
   "outputs": [
    {
     "data": {
      "text/plain": [
       "array([24.37247819,  2.93182587,  2.40329235,  2.15445964,  2.00349706,\n",
       "        1.89955414,  1.82242601,  1.76198518,  1.71295042,  1.67208251,\n",
       "        1.63720118,  1.6070225 ,  1.58048317,  1.5568958 ,  1.53572228,\n",
       "        1.51668096,  1.49922935,  1.48317476,  1.46849858,  1.45482341,\n",
       "        1.44211196,  1.43022534,  1.41907189,  1.40857633,  1.39870422,\n",
       "        1.38929973,  1.38047063,  1.37204019,  1.3640048 ,  1.35634486,\n",
       "        1.34903068,  1.34196345,  1.33524871,  1.32880106,  1.32257469,\n",
       "        1.31654507,  1.31080373,  1.3052147 ,  1.29981087,  1.29456885,\n",
       "        1.28957418,  1.28465953,  1.27990368,  1.27525911,  1.27081001,\n",
       "        1.26645375,  1.26225222,  1.25812346,  1.25410229,  1.25017903,\n",
       "        1.2463605 ,  1.24260788,  1.23900068,  1.2354284 ,  1.23196286,\n",
       "        1.22858489,  1.22523516,  1.22200219,  1.21882771,  1.21569237,\n",
       "        1.21264856,  1.20964725,  1.20667084,  1.20378334,  1.20102563,\n",
       "        1.19822996,  1.19552465,  1.19281239,  1.19021512,  1.18763908,\n",
       "        1.18507628,  1.18259026,  1.18016399,  1.17772392,  1.17534135,\n",
       "        1.17303204,  1.17071771,  1.16846562,  1.16619076,  1.16401639,\n",
       "        1.16183113,  1.15972521,  1.15762298,  1.15554683,  1.15346616,\n",
       "        1.15146462,  1.14946817,  1.14751742,  1.14557957,  1.14366555,\n",
       "        1.14175949,  1.13985578,  1.13806721,  1.13624132,  1.13443005,\n",
       "        1.13265233,  1.13091641,  1.12916847,  1.12745701,  1.12576835,\n",
       "        1.12405355,  1.12244922,  1.12077508,  1.11913699,  1.11756536,\n",
       "        1.11599893,  1.11443838,  1.1128605 ,  1.11133184,  1.1097837 ,\n",
       "        1.10833292,  1.1068333 ,  1.10536574,  1.1039106 ,  1.10244495,\n",
       "        1.10105159,  1.09963469,  1.09822229,  1.09685656,  1.09545644,\n",
       "        1.09411841,  1.09277377,  1.09143207,  1.09008661,  1.08879711,\n",
       "        1.08750722,  1.08619926,  1.08493225,  1.08363073,  1.08241712,\n",
       "        1.08116738,  1.07997486,  1.07874153,  1.07752677,  1.07628227,\n",
       "        1.07512396,  1.07395093,  1.07272644,  1.07162515,  1.07049462,\n",
       "        1.06936309,  1.06814173,  1.06702067,  1.06601055,  1.06486242,\n",
       "        1.06381379,  1.06271879,  1.06163046,  1.06040728,  1.05950468,\n",
       "        1.05844184,  1.05742331,  1.05631259,  1.05533145,  1.05425935,\n",
       "        1.05327788,  1.05224113,  1.05129863,  1.0503112 ,  1.04923774,\n",
       "        1.04836086,  1.04732446,  1.04644244,  1.04545613,  1.04437968,\n",
       "        1.04360618,  1.04265667,  1.041739  ,  1.04076932,  1.03989167,\n",
       "        1.03896338,  1.03809506,  1.03714077,  1.03628545,  1.03543083,\n",
       "        1.03453347,  1.03367307,  1.03279183,  1.03193847,  1.03101818,\n",
       "        1.03024454,  1.02935526,  1.02854466,  1.0277201 ,  1.0268657 ,\n",
       "        1.02603095,  1.02524299,  1.02443472,  1.02361822,  1.02281512,\n",
       "        1.02200679,  1.02122495,  1.02045056,  1.01966303,  1.01886451,\n",
       "        1.01810024,  1.01731711,  1.01648917,  1.01579784,  1.01506311,\n",
       "        1.01431032,  1.01353235,  1.01280827,  1.01195853,  1.01135422,\n",
       "        1.01059476,  1.00985616,  1.0090923 ,  1.00841559,  1.00772844,\n",
       "        1.0070246 ,  1.00632241,  1.00560766,  1.00490808,  1.0042207 ,\n",
       "        1.00352924,  1.00279769,  1.00215248,  1.00146756,  1.00079102,\n",
       "        1.00010711,  0.99944588,  0.99878508,  0.99812089,  0.99747928,\n",
       "        0.99680017,  0.99615177,  0.9954827 ,  0.99483746,  0.9942063 ,\n",
       "        0.99356549,  0.9928308 ,  0.99231242,  0.99168958,  0.991075  ,\n",
       "        0.99036125,  0.98983505,  0.98919018,  0.98857186,  0.98794935,\n",
       "        0.98736696,  0.9867333 ,  0.98614849,  0.98553167,  0.98496129,\n",
       "        0.98437059,  0.98376128,  0.98315809,  0.98259519,  0.98185598,\n",
       "        0.98141759,  0.98081465,  0.98028306,  0.9796952 ,  0.97912218,\n",
       "        0.97857319,  0.97798781,  0.97744022,  0.97684061,  0.97633178,\n",
       "        0.97573919,  0.97520766,  0.97464085,  0.97409373,  0.97356344,\n",
       "        0.97299504,  0.97243352,  0.97193846,  0.9713333 ,  0.97086331,\n",
       "        0.97033586,  0.96974392,  0.96927808,  0.9687221 ,  0.96822288,\n",
       "        0.9676414 ,  0.96719099,  0.96666324,  0.96615397,  0.96563911,\n",
       "        0.96513864,  0.96462422,  0.96409745,  0.96360716,  0.9630411 ,\n",
       "        0.96256468,  0.96212174,  0.96160995,  0.96108269,  0.96062167,\n",
       "        0.96011999,  0.95961343,  0.95914698,  0.95863185,  0.95816914,\n",
       "        0.95765948,  0.95721533,  0.95674457,  0.9562641 ,  0.95577074,\n",
       "        0.9553111 ,  0.9548449 ,  0.95437944,  0.95389414,  0.95343967,\n",
       "        0.95297171,  0.95247704,  0.95204748,  0.95159361,  0.95112372,\n",
       "        0.95062973,  0.95022568,  0.94973092,  0.94930577,  0.94884465,\n",
       "        0.94830382,  0.94793994,  0.94752762,  0.94708104,  0.94663453,\n",
       "        0.94618611,  0.94575491,  0.94530475,  0.94486389,  0.94442426,\n",
       "        0.94400199,  0.94358279,  0.94314992,  0.94269174,  0.94228558,\n",
       "        0.94175473,  0.94129679,  0.94104017,  0.94059764,  0.94013846,\n",
       "        0.939739  ,  0.93932548,  0.93892051,  0.93850459,  0.93809168,\n",
       "        0.93766307,  0.93723849,  0.93684623,  0.93644546,  0.93600671,\n",
       "        0.93559295,  0.93519954,  0.93481419,  0.9343614 ,  0.93401148,\n",
       "        0.93358915,  0.9331909 ,  0.93282915,  0.93241754,  0.93194173,\n",
       "        0.93163422,  0.93120848,  0.93079783,  0.93044326,  0.93006074,\n",
       "        0.9296176 ,  0.92924278,  0.9289052 ,  0.92844495,  0.92814271,\n",
       "        0.92775091,  0.92736687,  0.92698633,  0.92659515,  0.92619203,\n",
       "        0.92584664,  0.92546082,  0.92509664,  0.9247218 ,  0.92428846,\n",
       "        0.92396979,  0.92359607,  0.92321036,  0.92286067,  0.92248395,\n",
       "        0.92212836,  0.92167973,  0.921362  ,  0.92102534,  0.92066875,\n",
       "        0.92029215,  0.9198327 ,  0.9196014 ,  0.91922482,  0.91885941,\n",
       "        0.91851055,  0.91813762,  0.91778264,  0.91745005,  0.91706083,\n",
       "        0.91672047,  0.91631765,  0.91602777,  0.91569846,  0.91534442,\n",
       "        0.91497249,  0.91459845,  0.91429115,  0.91396519,  0.91354744,\n",
       "        0.91328023,  0.91292747,  0.91255293,  0.91224859,  0.91178205,\n",
       "        0.911556  ,  0.91124193,  0.91089966,  0.91053286,  0.91020976,\n",
       "        0.90986886,  0.9095368 ,  0.90922061,  0.90888911,  0.90855155,\n",
       "        0.90822953,  0.90788729,  0.90757441,  0.90723718,  0.90685476,\n",
       "        0.9065845 ,  0.90625161,  0.90592015,  0.90560945,  0.90528597,\n",
       "        0.90495738,  0.90463411,  0.9043164 ,  0.90399123,  0.90368012,\n",
       "        0.90332686,  0.90300111,  0.90265496,  0.90240833,  0.90208341,\n",
       "        0.9017633 ,  0.90145692,  0.90112799,  0.90082139,  0.9005326 ,\n",
       "        0.90018783,  0.89989745,  0.89959108,  0.89924589,  0.89896472,\n",
       "        0.89866961,  0.89833072,  0.89806093,  0.89775343,  0.89741833,\n",
       "        0.89714789,  0.89683764,  0.89653346,  0.89623359,  0.89590863,\n",
       "        0.89563393,  0.89533366,  0.89503089,  0.89470383,  0.89442213,\n",
       "        0.89413727,  0.89383726,  0.89352326,  0.89324027,  0.89295679,\n",
       "        0.89264239,  0.89235165,  0.89206021,  0.89177826,  0.89148399,\n",
       "        0.89118167,  0.89083878,  0.8905797 ,  0.89026497,  0.89004423,\n",
       "        0.88973389,  0.88947296,  0.88915948,  0.88885061,  0.88856156,\n",
       "        0.88829237,  0.88800495,  0.88774542,  0.88744685,  0.88718099,\n",
       "        0.88687938,  0.8866116 ,  0.88628899,  0.88601593,  0.8857732 ,\n",
       "        0.8854996 ,  0.88515771,  0.88492163,  0.88465655,  0.88437669,\n",
       "        0.8840287 ,  0.88382614,  0.88354296,  0.88322321,  0.88297606,\n",
       "        0.88271546,  0.88244588,  0.88217957,  0.88190936,  0.88164237,\n",
       "        0.88137238,  0.88109985,  0.8808279 ,  0.88053771,  0.88028835,\n",
       "        0.88003326,  0.8797251 ,  0.87948994,  0.87922279,  0.87891713,\n",
       "        0.87868373,  0.87841719,  0.87808981,  0.87789045,  0.87761158,\n",
       "        0.87734341,  0.87707976,  0.87680661,  0.87655525,  0.87627377,\n",
       "        0.87599936,  0.87579107,  0.87553951,  0.8752609 ,  0.87501026,\n",
       "        0.87475525,  0.87448302,  0.87424824,  0.87397368,  0.87373116,\n",
       "        0.87345239,  0.87306965,  0.87296921,  0.87271476,  0.87244527,\n",
       "        0.87219735,  0.87191636,  0.87167442,  0.87134799,  0.87119392,\n",
       "        0.87090519,  0.8706378 ,  0.87043905,  0.87018038,  0.86990001,\n",
       "        0.86969917,  0.86943084,  0.86920242,  0.86893277,  0.86869236,\n",
       "        0.86845147,  0.86818909,  0.86794112,  0.86768541,  0.86746951,\n",
       "        0.86723141,  0.86698565,  0.86672684,  0.8664999 ,  0.86625504,\n",
       "        0.86599832,  0.86577046,  0.86547682,  0.86528226,  0.86504524,\n",
       "        0.86478986,  0.86451387,  0.86432429,  0.86402279,  0.863791  ,\n",
       "        0.86360757,  0.86337306,  0.86311575,  0.86287734,  0.86264571,\n",
       "        0.86240546,  0.86212114,  0.86194619,  0.86171197,  0.8614786 ,\n",
       "        0.86123372,  0.8609721 ,  0.86078563,  0.86055855,  0.86030404,\n",
       "        0.86007184,  0.85985917,  0.85955884,  0.85939687,  0.85914189,\n",
       "        0.85890926,  0.85870343,  0.85840265,  0.85824893,  0.85802264,\n",
       "        0.8577713 ,  0.85754087,  0.85732604,  0.85705298,  0.85683588,\n",
       "        0.85665997,  0.85636472,  0.85618491,  0.8559501 ,  0.85572232,\n",
       "        0.85550105,  0.85527645,  0.85504319,  0.85479896,  0.85459683,\n",
       "        0.85439149,  0.85416851,  0.85395504,  0.85369187,  0.85352579,\n",
       "        0.85326691,  0.85303534,  0.85281774,  0.85262108,  0.85240619,\n",
       "        0.85218854,  0.85194126,  0.85174617,  0.85152613,  0.85123414,\n",
       "        0.85110783,  0.85087367,  0.85065289,  0.85044375,  0.85022631,\n",
       "        0.84998896,  0.84980405,  0.84957715,  0.84929601,  0.84916725,\n",
       "        0.84891841,  0.84867586,  0.84845046,  0.84829431,  0.84808012,\n",
       "        0.84787527,  0.84765847,  0.84744276,  0.8471932 ,  0.84701385,\n",
       "        0.84681575,  0.84657975,  0.84633706,  0.84617079,  0.84597129,\n",
       "        0.84574878,  0.84555269,  0.84532374,  0.84512141,  0.84493276,\n",
       "        0.84470039,  0.84450464,  0.84431171,  0.8440686 ,  0.84387786,\n",
       "        0.84366694,  0.84342196,  0.84327667,  0.84301991,  0.84284873,\n",
       "        0.84263778,  0.84241731,  0.84222905,  0.84203934,  0.84183429,\n",
       "        0.84163169,  0.84142313,  0.84123329,  0.84101058,  0.84080099,\n",
       "        0.84062065,  0.84039099,  0.84014453,  0.84001971,  0.83980346,\n",
       "        0.83959904,  0.8393989 ,  0.83920308,  0.83899915,  0.83879477,\n",
       "        0.83862102,  0.8384115 ,  0.83820681,  0.83795016,  0.8377917 ,\n",
       "        0.83761814,  0.83740278,  0.83722656,  0.83699803,  0.83683627,\n",
       "        0.8366372 ,  0.83639699,  0.83623885,  0.83604283,  0.83586161,\n",
       "        0.83566252,  0.8354502 ,  0.83527353,  0.83507993,  0.83488303,\n",
       "        0.83468815,  0.8344905 ,  0.83426653,  0.83411596,  0.83389704,\n",
       "        0.83371849,  0.83351259,  0.83331306,  0.83310365,  0.83293832,\n",
       "        0.83277103,  0.83257601,  0.83237381,  0.83211249,  0.83203194,\n",
       "        0.83182619,  0.83161799,  0.83141321,  0.83124914,  0.8310465 ,\n",
       "        0.83087451,  0.83068978,  0.83043547,  0.83031546,  0.83011977,\n",
       "        0.82992729,  0.82970459,  0.82956464,  0.82937686,  0.82919731,\n",
       "        0.82900311,  0.82881931,  0.82862445,  0.82845739,  0.82826941,\n",
       "        0.82802932,  0.82789451,  0.82768854,  0.82747584,  0.82733905,\n",
       "        0.82715657,  0.82694146,  0.82679424,  0.82661374,  0.82636339,\n",
       "        0.82625279,  0.82605244,  0.82585134,  0.82567059,  0.82548647,\n",
       "        0.82533658,  0.82515389,  0.8249461 ,  0.82477109,  0.82460513,\n",
       "        0.82443569,  0.82425141,  0.82407683,  0.82389998,  0.82367752,\n",
       "        0.82352594,  0.82335298,  0.82317854,  0.82300093,  0.82283098,\n",
       "        0.8226382 ,  0.82244544,  0.82229196,  0.82208439,  0.82194587,\n",
       "        0.82174006,  0.82158426,  0.82139217,  0.82122456,  0.8210465 ,\n",
       "        0.82087901,  0.82069623,  0.82053093,  0.82034563,  0.82018362,\n",
       "        0.81995633,  0.81980104,  0.81956388,  0.81947862,  0.81928503,\n",
       "        0.81914496,  0.8189616 ,  0.81879042,  0.81861771,  0.8184378 ,\n",
       "        0.81822969,  0.81810004,  0.81792901,  0.8177589 ,  0.81757953,\n",
       "        0.81742512,  0.81724315,  0.81705797,  0.81690879,  0.81672651,\n",
       "        0.81656905,  0.8163889 ,  0.81614754,  0.81603616,  0.81587571,\n",
       "        0.81570356,  0.81554086,  0.81536366,  0.81520615,  0.81499474,\n",
       "        0.81486603,  0.81469736,  0.8145161 ,  0.81436132,  0.81418446,\n",
       "        0.81400344,  0.81384839,  0.81370375,  0.81351101,  0.81336155,\n",
       "        0.81321036,  0.8130007 ,  0.81287408,  0.81270062,  0.81251655,\n",
       "        0.81235795,  0.81220019,  0.81202945,  0.81186841,  0.81171986,\n",
       "        0.81150613,  0.81138605,  0.811116  ,  0.81103623,  0.81089003,\n",
       "        0.81071582,  0.8105716 ,  0.81034355,  0.81026131,  0.81008859,\n",
       "        0.80989738,  0.80975809,  0.80958136,  0.80942477,  0.8092574 ,\n",
       "        0.80910618,  0.80892969,  0.80878078,  0.80862557,  0.80841621,\n",
       "        0.80826962,  0.80815668,  0.80797108,  0.80782216,  0.80765084,\n",
       "        0.80746872,  0.80731803,  0.80714224,  0.80696464,  0.8068306 ,\n",
       "        0.80670594,  0.80650143,  0.80635822,  0.80620477,  0.80603179,\n",
       "        0.80591615,  0.80573981,  0.80557846,  0.80545369,  0.80527759,\n",
       "        0.80511678,  0.80497786,  0.80480214,  0.80465409,  0.80450734,\n",
       "        0.80435017,  0.80418208,  0.80403189,  0.80386324,  0.80369784,\n",
       "        0.80356774,  0.80339111,  0.80323502,  0.80309248,  0.80294859,\n",
       "        0.80278999,  0.80262938,  0.80242497,  0.80232642,  0.802178  ,\n",
       "        0.80201546,  0.80186291,  0.8016414 ,  0.80157533,  0.80141609,\n",
       "        0.80122245,  0.80104922,  0.80095934,  0.80080604,  0.80061095,\n",
       "        0.8004772 ,  0.80034563,  0.80019011,  0.8000334 ,  0.79987423,\n",
       "        0.79974338,  0.79958863,  0.79941582,  0.79927697,  0.79908792,\n",
       "        0.79899221,  0.79884348,  0.79861117,  0.79854315,  0.79831884,\n",
       "        0.7982418 ,  0.79804182,  0.79794952,  0.79779222,  0.79764649,\n",
       "        0.79744466,  0.79730413,  0.79718609,  0.79705222,  0.79689554,\n",
       "        0.79675728,  0.79660055,  0.79642582,  0.79630162,  0.79616031,\n",
       "        0.79596268,  0.79586458,  0.79572559,  0.79555999,  0.79538699,\n",
       "        0.79528576,  0.79513274,  0.79497544,  0.79484231,  0.79467483,\n",
       "        0.79453556,  0.79439001,  0.7942509 ,  0.79411361,  0.79396395,\n",
       "        0.79375474,  0.79368003,  0.79353079,  0.79339286,  0.79324804,\n",
       "        0.79304877,  0.79295769,  0.79281657,  0.79267346,  0.7925322 ,\n",
       "        0.79228309,  0.7922067 ,  0.79209329,  0.79192489,  0.79174287,\n",
       "        0.79167101,  0.79150503,  0.79139303,  0.79121827,  0.79102694,\n",
       "        0.79091883,  0.79080394,  0.79067687,  0.79052825,  0.79034952,\n",
       "        0.79025543,  0.79005169,  0.78996095,  0.78982157,  0.78969015,\n",
       "        0.78953546,  0.78938926,  0.78926247,  0.78911241,  0.7889882 ,\n",
       "        0.7888303 ,  0.78870139,  0.7885607 ,  0.78840581,  0.78824507])"
      ]
     },
     "execution_count": 21,
     "metadata": {},
     "output_type": "execute_result"
    }
   ],
   "source": [
    "# Train logistic regression\n",
    "# You should get the optimal weights and a list of objective values by using gradient_descent function.\n",
    "w = np.random.rand(31,)\n",
    "w, obj_vals = mbgd(x_train, y_train, 0, .01, w, 1000)\n",
    "obj_vals"
   ]
  },
  {
   "cell_type": "code",
   "execution_count": 22,
   "metadata": {},
   "outputs": [
    {
     "data": {
      "text/plain": [
       "array([30.47405817,  4.72562335,  4.24458214,  4.02580776,  3.90732965,\n",
       "        3.83819895,  3.79671641,  3.77162562,  3.75615172,  3.74693467,\n",
       "        3.74127884,  3.73797955,  3.73560304,  3.73424216,  3.73364247,\n",
       "        3.73301313,  3.7327025 ,  3.73242292,  3.73261293,  3.73227101,\n",
       "        3.73219082,  3.73223117,  3.73228267,  3.73149333,  3.73254997,\n",
       "        3.73212391,  3.73222881,  3.73207225,  3.73214365,  3.7320499 ,\n",
       "        3.73197665,  3.73196843,  3.73231256,  3.73215796,  3.73219992,\n",
       "        3.73206516,  3.73216738,  3.73208639,  3.73214984,  3.73231361,\n",
       "        3.73222142,  3.73221749,  3.73189197,  3.73167002,  3.73175888,\n",
       "        3.73212438,  3.73200046,  3.73225879,  3.73204408,  3.73215116,\n",
       "        3.73221592,  3.73213033,  3.73222496,  3.73227554,  3.73185242,\n",
       "        3.73237014,  3.73200338,  3.73195366,  3.73223867,  3.73228432,\n",
       "        3.73208183,  3.73224253,  3.73219929,  3.73217135,  3.7323287 ,\n",
       "        3.73214133,  3.73224414,  3.73228079,  3.73216566,  3.7321866 ,\n",
       "        3.73216893,  3.73226789,  3.73215762,  3.73217652,  3.73227555,\n",
       "        3.73198756,  3.73204488,  3.73122703,  3.73235539,  3.73211405,\n",
       "        3.73175295,  3.73214914,  3.73205883,  3.7322306 ,  3.73220309,\n",
       "        3.73209334,  3.73218446,  3.73191897,  3.7321561 ,  3.73201684,\n",
       "        3.73215163,  3.73220549,  3.73224508,  3.73221366,  3.7322211 ,\n",
       "        3.73218788,  3.73200266,  3.73215202,  3.7320957 ,  3.73227264,\n",
       "        3.73204441,  3.7323565 ,  3.73224644,  3.73177342,  3.73219536,\n",
       "        3.73193393,  3.73210293,  3.73204534,  3.73223437,  3.73201549,\n",
       "        3.73212037,  3.73219209,  3.73225054,  3.73194285,  3.73200801,\n",
       "        3.73206106,  3.73233241,  3.73229321,  3.73211535,  3.73194892,\n",
       "        3.73216918,  3.7322369 ,  3.73225996,  3.73225258,  3.73222425,\n",
       "        3.73224368,  3.73231106,  3.73222282,  3.73198606,  3.73223823,\n",
       "        3.73193912,  3.73198108,  3.73235745,  3.73207972,  3.73237634,\n",
       "        3.73219989,  3.73202479,  3.73204937,  3.73237521,  3.73208807,\n",
       "        3.73227694,  3.73220265,  3.73213694,  3.73220606,  3.73205721,\n",
       "        3.73229837,  3.73227261,  3.73227143,  3.7321378 ,  3.73203969,\n",
       "        3.73203413,  3.73204067,  3.73221742,  3.73224599,  3.73182468,\n",
       "        3.73183519,  3.73206899,  3.73239693,  3.73181887,  3.73190282,\n",
       "        3.73227136,  3.73186312,  3.73228984,  3.73201888,  3.73237606,\n",
       "        3.73189914,  3.73216404,  3.73209152,  3.73210353,  3.73222341,\n",
       "        3.73199716,  3.73228317,  3.73228242,  3.73208065,  3.73221834,\n",
       "        3.73227169,  3.73215906,  3.73218067,  3.73224612,  3.73219738,\n",
       "        3.73216107,  3.73231879,  3.73222564,  3.73218762,  3.73231003,\n",
       "        3.7320644 ,  3.7321508 ,  3.7320771 ,  3.73209177,  3.73221303,\n",
       "        3.73214433,  3.73208103,  3.73216401,  3.73210882,  3.73212957,\n",
       "        3.73191025,  3.73232049,  3.73176428,  3.73235012,  3.73220543,\n",
       "        3.73212536,  3.73213567,  3.7319012 ,  3.73229   ,  3.73221595,\n",
       "        3.73209504,  3.73233748,  3.7316162 ,  3.73235394,  3.73186156,\n",
       "        3.73199443,  3.73215891,  3.73234309,  3.7322252 ,  3.73195436,\n",
       "        3.73170527,  3.73235474,  3.73194916,  3.73219809,  3.7320899 ,\n",
       "        3.73158266,  3.73211361,  3.73225723,  3.73221474,  3.73229523,\n",
       "        3.73203447,  3.73215382,  3.73217505,  3.73197686,  3.73231047,\n",
       "        3.73199585,  3.73210075,  3.73221851,  3.73226084,  3.73225384,\n",
       "        3.73207784,  3.73214144,  3.7321479 ,  3.73233878,  3.73216872,\n",
       "        3.73233   ,  3.73206821,  3.73220953,  3.73228811,  3.73218827,\n",
       "        3.73183738,  3.73215168,  3.73202094,  3.73215071,  3.73210448,\n",
       "        3.73195986,  3.73220742,  3.73228408,  3.73228301,  3.73199649,\n",
       "        3.73226815,  3.73223588,  3.73212966,  3.73168225,  3.73211032,\n",
       "        3.73224564,  3.73230556,  3.73209823,  3.73199598,  3.73222147,\n",
       "        3.73232538,  3.73231352,  3.73216044,  3.73217962,  3.73205663,\n",
       "        3.73229486,  3.73215547,  3.73230034,  3.73206071,  3.73239161,\n",
       "        3.73234378,  3.73222199,  3.7320096 ,  3.73176376,  3.73206845,\n",
       "        3.73216896,  3.73232343,  3.7322097 ,  3.73177234,  3.73231402,\n",
       "        3.73216531,  3.73207975,  3.73221148,  3.73220858,  3.73168784,\n",
       "        3.73229543,  3.73225781,  3.73234158,  3.73208568,  3.73198746,\n",
       "        3.73216938,  3.73227427,  3.73221863,  3.73229433,  3.7322669 ,\n",
       "        3.73226137,  3.7322503 ,  3.73195123,  3.73227967,  3.73173204,\n",
       "        3.73223646,  3.73216606,  3.73226536,  3.7321632 ,  3.73205486,\n",
       "        3.73199504,  3.7320536 ,  3.73221357,  3.73210075,  3.73215861,\n",
       "        3.73193822,  3.73235744,  3.73222975,  3.73213298,  3.73217781,\n",
       "        3.73223962,  3.73219286,  3.73200323,  3.73232484,  3.73231489,\n",
       "        3.73200572,  3.73165513,  3.73215868,  3.73226591,  3.73210966,\n",
       "        3.73208155,  3.73188751,  3.73219962,  3.73138152,  3.73186913,\n",
       "        3.7319995 ,  3.73214231,  3.73216078,  3.73208655,  3.73222127,\n",
       "        3.73216133,  3.73227586,  3.73218173,  3.73201261,  3.73235468,\n",
       "        3.73220513,  3.73220432,  3.73223243,  3.73217055,  3.73217044,\n",
       "        3.73215509,  3.73215846,  3.73227619,  3.73221092,  3.73224413,\n",
       "        3.73220786,  3.732291  ,  3.73226296,  3.73186312,  3.73224142,\n",
       "        3.73187716,  3.73223446,  3.73216073,  3.73198849,  3.7318852 ,\n",
       "        3.7321826 ,  3.73207683,  3.73185873,  3.73239488,  3.73214429,\n",
       "        3.73230973,  3.73222847,  3.73226255,  3.73225958,  3.7321584 ,\n",
       "        3.73219333,  3.73213424,  3.7320018 ,  3.7320128 ,  3.73221738,\n",
       "        3.73203423,  3.73245602,  3.73230621,  3.73216476,  3.73214031,\n",
       "        3.73219073,  3.73221715,  3.73199197,  3.73195761,  3.73225042,\n",
       "        3.73155824,  3.73238918,  3.73227131,  3.73223394,  3.7321568 ,\n",
       "        3.7318434 ,  3.7323613 ,  3.73222003,  3.73218399,  3.73194377,\n",
       "        3.73211683,  3.73229062,  3.73142779,  3.73253877,  3.7322091 ,\n",
       "        3.73184498,  3.73192369,  3.73185063,  3.73225478,  3.73193847,\n",
       "        3.73235861,  3.73226059,  3.73208285,  3.73227174,  3.73167738,\n",
       "        3.73208762,  3.73226053,  3.73218281,  3.73217087,  3.73198249,\n",
       "        3.73228631,  3.73211502,  3.73201886,  3.73219841,  3.73183426,\n",
       "        3.7322106 ,  3.73230779,  3.73209986,  3.73218861,  3.73188468,\n",
       "        3.73201849,  3.73104764,  3.73268555,  3.73224233,  3.7320445 ,\n",
       "        3.73174049,  3.73224493,  3.7321648 ,  3.73225584,  3.73203815,\n",
       "        3.73224547,  3.73221819,  3.73194385,  3.73225985,  3.73212199,\n",
       "        3.73217962,  3.73224487,  3.73210874,  3.73228659,  3.73227443,\n",
       "        3.73222412,  3.73218146,  3.73207478,  3.73221923,  3.73206169,\n",
       "        3.7322558 ,  3.73195158,  3.73217408,  3.73179426,  3.73175094,\n",
       "        3.73253691,  3.73238604,  3.73167103,  3.73197154,  3.7320439 ,\n",
       "        3.73219342,  3.73226342,  3.73228743,  3.73215111,  3.73196207,\n",
       "        3.73212722,  3.73212346,  3.73221722,  3.73226643,  3.73178934,\n",
       "        3.73235494,  3.73233207,  3.7323033 ,  3.7322334 ,  3.73194864,\n",
       "        3.7315316 ,  3.7324287 ,  3.73227905,  3.73202711,  3.73215431,\n",
       "        3.73236468,  3.73178448,  3.73229671,  3.73217151,  3.73205672,\n",
       "        3.73207243,  3.73214695,  3.73214332,  3.73214766,  3.73152909,\n",
       "        3.73251933,  3.73222676,  3.73199102,  3.7323711 ,  3.7321186 ,\n",
       "        3.73208834,  3.73192037,  3.73219599,  3.73234607,  3.7322317 ,\n",
       "        3.73229813,  3.73220393,  3.73221675,  3.7322844 ,  3.73203233,\n",
       "        3.73219167,  3.73189463,  3.73230642,  3.7320563 ,  3.73207813,\n",
       "        3.73216264,  3.73220253,  3.73238364,  3.73224563,  3.73223366,\n",
       "        3.73190819,  3.73224976,  3.73188098,  3.73217127,  3.73230481,\n",
       "        3.73229933,  3.73233522,  3.73220103,  3.73222871,  3.73226439,\n",
       "        3.7322625 ,  3.73211819,  3.7321179 ,  3.73224643,  3.73218548,\n",
       "        3.73228903,  3.7316929 ,  3.73240541,  3.73205366,  3.73239863,\n",
       "        3.7321786 ,  3.73210886,  3.73142448,  3.73235121,  3.7323184 ,\n",
       "        3.73217805,  3.73202448,  3.7323053 ,  3.73222464,  3.73203698,\n",
       "        3.73194959,  3.73224242,  3.73204833,  3.73221   ,  3.73226943,\n",
       "        3.73228111,  3.73218868,  3.73208987,  3.73209752,  3.73230609,\n",
       "        3.7323219 ,  3.73230537,  3.73226564,  3.73218377,  3.73162568,\n",
       "        3.73237601,  3.73226968,  3.73226929,  3.73204208,  3.73221816,\n",
       "        3.73211854,  3.73149122,  3.73222328,  3.7323474 ,  3.7319511 ,\n",
       "        3.73227873,  3.73196183,  3.73200535,  3.73232069,  3.73217853,\n",
       "        3.73207206,  3.73206808,  3.73232604,  3.73221238,  3.73216058,\n",
       "        3.73223844,  3.73221441,  3.73214085,  3.7320386 ,  3.73210174,\n",
       "        3.7321747 ,  3.73210898,  3.73228265,  3.73217896,  3.73216384,\n",
       "        3.73196932,  3.7323096 ,  3.73210368,  3.73224962,  3.73188551,\n",
       "        3.73192161,  3.73222559,  3.73229297,  3.7323442 ,  3.73232961,\n",
       "        3.73214213,  3.73207497,  3.73219002,  3.7320903 ,  3.73228165,\n",
       "        3.73235782,  3.73207721,  3.73183668,  3.73214507,  3.73216281,\n",
       "        3.7319961 ,  3.73217178,  3.73198298,  3.73231865,  3.73212178,\n",
       "        3.73220143,  3.73189407,  3.7321212 ,  3.73129715,  3.73220609,\n",
       "        3.73235281,  3.73210437,  3.73232885,  3.73218081,  3.73200201,\n",
       "        3.73225651,  3.73228048,  3.73201053,  3.73224616,  3.73200481,\n",
       "        3.73201328,  3.73217421,  3.73222886,  3.7322089 ,  3.73217033,\n",
       "        3.7322043 ,  3.73199691,  3.73236395,  3.73190247,  3.73209514,\n",
       "        3.73194452,  3.73241558,  3.73213635,  3.73227687,  3.73209075,\n",
       "        3.73222913,  3.73216424,  3.73193765,  3.73183175,  3.73234272,\n",
       "        3.73179289,  3.73199916,  3.73234931,  3.73217495,  3.73228908,\n",
       "        3.73223001,  3.73219762,  3.73225732,  3.73182848,  3.73232659,\n",
       "        3.73193141,  3.73231966,  3.73185287,  3.73231786,  3.73234236,\n",
       "        3.73200763,  3.73236831,  3.73195783,  3.73206581,  3.73185885,\n",
       "        3.73220056,  3.73215221,  3.73217653,  3.73194648,  3.73204552,\n",
       "        3.73201527,  3.73228433,  3.73216561,  3.73203994,  3.7318458 ,\n",
       "        3.7321751 ,  3.73213935,  3.7321202 ,  3.73228046,  3.73224225,\n",
       "        3.73191957,  3.73238842,  3.73161444,  3.73234785,  3.73217007,\n",
       "        3.73190202,  3.73237988,  3.73200691,  3.73222211,  3.73214987,\n",
       "        3.73180773,  3.73248831,  3.73210054,  3.73205048,  3.73228942,\n",
       "        3.73156052,  3.73231483,  3.73222608,  3.73234053,  3.73214486,\n",
       "        3.73210662,  3.73220491,  3.73221882,  3.73215233,  3.73197723,\n",
       "        3.73224453,  3.73227227,  3.73220808,  3.73227037,  3.73226619,\n",
       "        3.7322768 ,  3.73125948,  3.73226226,  3.73209535,  3.73218873,\n",
       "        3.73203871,  3.7322035 ,  3.73208887,  3.73220421,  3.73196497,\n",
       "        3.73216343,  3.73220392,  3.73201564,  3.73221549,  3.73217875,\n",
       "        3.73200231,  3.73232347,  3.73216211,  3.7323349 ,  3.73213786,\n",
       "        3.73220694,  3.73225313,  3.73169279,  3.7322393 ,  3.73223388,\n",
       "        3.73225644,  3.73221287,  3.73209351,  3.73210263,  3.7321326 ,\n",
       "        3.73230306,  3.7323526 ,  3.73206246,  3.7319751 ,  3.73201753,\n",
       "        3.73224871,  3.73227747,  3.7318994 ,  3.73233695,  3.73196656,\n",
       "        3.73226584,  3.73227944,  3.73205574,  3.73217682,  3.73232859,\n",
       "        3.73193392,  3.73233974,  3.73135921,  3.73240806,  3.73225315,\n",
       "        3.73204989,  3.73226198,  3.73196876,  3.73190633,  3.7317576 ,\n",
       "        3.73217243,  3.7322913 ,  3.73206174,  3.73215365,  3.7322889 ,\n",
       "        3.73202886,  3.73125001,  3.73249405,  3.73117652,  3.73227354,\n",
       "        3.73198536,  3.73235942,  3.73226932,  3.73225916,  3.73200289,\n",
       "        3.73229755,  3.73222074,  3.73168471,  3.73239955,  3.73214045,\n",
       "        3.73165997,  3.73231586,  3.73222556,  3.7320745 ,  3.73210059,\n",
       "        3.73220926,  3.73227015,  3.73200203,  3.73194778,  3.73220265,\n",
       "        3.73212236,  3.73232689,  3.73231269,  3.7323458 ,  3.73215385,\n",
       "        3.73213666,  3.73219576,  3.7323234 ,  3.73226786,  3.73229793,\n",
       "        3.73214375,  3.7319603 ,  3.73195948,  3.73208539,  3.73178898,\n",
       "        3.7319149 ,  3.73232272,  3.73219703,  3.7322291 ,  3.7321842 ,\n",
       "        3.73211693,  3.73215622,  3.73193721,  3.73228701,  3.73214402,\n",
       "        3.73199271,  3.73203545,  3.73228598,  3.73191009,  3.73202076,\n",
       "        3.73227144,  3.73211582,  3.73201219,  3.73191457,  3.73239802,\n",
       "        3.73234146,  3.7322212 ,  3.73198516,  3.73224277,  3.73226234,\n",
       "        3.73221193,  3.73222258,  3.73211208,  3.73222084,  3.73212749,\n",
       "        3.73222569,  3.73227601,  3.73221466,  3.73202509,  3.73184982,\n",
       "        3.73216341,  3.73156259,  3.73208573,  3.73225239,  3.73208952,\n",
       "        3.73207275,  3.73201065,  3.73205008,  3.73220208,  3.7318707 ,\n",
       "        3.73224404,  3.73204344,  3.73188352,  3.73242763,  3.73218375,\n",
       "        3.73202422,  3.73235621,  3.73218578,  3.73225964,  3.73218376,\n",
       "        3.73222082,  3.73221108,  3.73198499,  3.7323691 ,  3.73210216,\n",
       "        3.73165868,  3.73209548,  3.73205274,  3.73224318,  3.73229983,\n",
       "        3.7320148 ,  3.73220284,  3.73230328,  3.73213743,  3.73200725,\n",
       "        3.73229975,  3.73222792,  3.73222117,  3.73214396,  3.73228755,\n",
       "        3.73218473,  3.73224714,  3.73197344,  3.73211553,  3.73217202,\n",
       "        3.73189179,  3.73207603,  3.7320049 ,  3.73200704,  3.73220052,\n",
       "        3.73229989,  3.73218577,  3.73222838,  3.73162959,  3.73207923,\n",
       "        3.73216828,  3.73196751,  3.7323453 ,  3.73229716,  3.73228893,\n",
       "        3.73212763,  3.73215192,  3.7322547 ,  3.73200475,  3.73204358,\n",
       "        3.73216353,  3.73233594,  3.73204123,  3.73205604,  3.73203234,\n",
       "        3.73226731,  3.73213419,  3.73217568,  3.73212191,  3.73215451,\n",
       "        3.73207942,  3.73217001,  3.73210868,  3.73190904,  3.7323431 ,\n",
       "        3.73212398,  3.73227371,  3.73222582,  3.73225292,  3.73233597,\n",
       "        3.73222817,  3.73193007,  3.73225951,  3.73221111,  3.73200926,\n",
       "        3.73233576,  3.73212875,  3.73229146,  3.73181053,  3.73229386,\n",
       "        3.73227761,  3.73194427,  3.73232801,  3.73227452,  3.73222378,\n",
       "        3.7318661 ,  3.7321941 ,  3.73218581,  3.73233588,  3.73213921,\n",
       "        3.73209372,  3.73204738,  3.73232026,  3.73205229,  3.73232474,\n",
       "        3.73193834,  3.73234305,  3.73238723,  3.73212397,  3.73198367,\n",
       "        3.73206429,  3.73159159,  3.73218409,  3.73191601,  3.73242032,\n",
       "        3.73224221,  3.73224468,  3.73216954,  3.73218669,  3.7321323 ,\n",
       "        3.73234584,  3.73214259,  3.73223704,  3.73143346,  3.73226518,\n",
       "        3.73230627,  3.7319185 ,  3.73232168,  3.7320331 ,  3.73217053,\n",
       "        3.73210522,  3.73220678,  3.73222843,  3.73216866,  3.73223494,\n",
       "        3.73202464,  3.73234217,  3.73215279,  3.73229302,  3.73208305])"
      ]
     },
     "execution_count": 22,
     "metadata": {},
     "output_type": "execute_result"
    }
   ],
   "source": [
    "# Train regularized logistic regression\n",
    "# You should get the optimal weights and a list of objective values by using gradient_descent function.\n",
    "w = np.random.rand(31,)\n",
    "w, obj_vals = mbgd(x_train, y_train, .05, .01, w, 1000)\n",
    "obj_vals"
   ]
  },
  {
   "cell_type": "markdown",
   "metadata": {},
   "source": [
    "# 4. Compare GD, SGD, MBGD\n",
    "\n",
    "### Plot objective function values against epochs."
   ]
  },
  {
   "cell_type": "code",
   "execution_count": 23,
   "metadata": {},
   "outputs": [],
   "source": [
    "import matplotlib.pyplot as plt\n",
    "%matplotlib inline\n",
    "\n"
   ]
  },
  {
   "cell_type": "code",
   "execution_count": 24,
   "metadata": {},
   "outputs": [
    {
     "data": {
      "image/png": "[encoded data removed]",
      "text/plain": [
       "<Figure size 640x480 with 1 Axes>"
      ]
     },
     "metadata": {},
     "output_type": "display_data"
    }
   ],
   "source": [
    "w = np.random.rand(31,1)\n",
    "w, obj_vals = gradient_descent(x_train, y_train, 0.0, .05, w, 1000)\n",
    "\n",
    "series= pd.Series(obj_vals)\n",
    "series.plot()\n",
    "plt.title('Gradient Descent (Non-Regularized)')\n",
    "plt.xlabel('Epochs')\n",
    "plt.ylabel('Objective Values')\n",
    "plt.show()"
   ]
  },
  {
   "cell_type": "code",
   "execution_count": 25,
   "metadata": {},
   "outputs": [
    {
     "data": {
      "image/png": "[encoded data removed]",
      "text/plain": [
       "<Figure size 640x480 with 1 Axes>"
      ]
     },
     "metadata": {},
     "output_type": "display_data"
    }
   ],
   "source": [
    "w = np.random.rand(31,1)\n",
    "w, obj_vals = gradient_descent(x_train, y_train, .05, .05, w, 1000)\n",
    "\n",
    "series= pd.Series(obj_vals)\n",
    "series.plot()\n",
    "plt.title('Gradient Descent (Regularized)')\n",
    "plt.xlabel('Epochs')\n",
    "plt.ylabel('Objective Values')\n",
    "plt.show()"
   ]
  },
  {
   "cell_type": "code",
   "execution_count": 26,
   "metadata": {},
   "outputs": [
    {
     "name": "stdout",
     "output_type": "stream",
     "text": [
      "\n"
     ]
    },
    {
     "data": {
      "image/png": "[encoded data removed]",
      "text/plain": [
       "<Figure size 640x480 with 1 Axes>"
      ]
     },
     "metadata": {},
     "output_type": "display_data"
    }
   ],
   "source": [
    "w = np.random.rand(31,)\n",
    "\n",
    "w, obj_vals = sgd(x_train, y_train, 0, .01, w, 100)\n",
    "series= pd.Series(obj_vals)\n",
    "series.plot()\n",
    "plt.title('Stochastic Gradient Descent (Non-Regularized)')\n",
    "plt.xlabel('Epochs')\n",
    "plt.ylabel('Objective Values')\n",
    "plt.show()"
   ]
  },
  {
   "cell_type": "code",
   "execution_count": 52,
   "metadata": {},
   "outputs": [
    {
     "name": "stdout",
     "output_type": "stream",
     "text": [
      "\n"
     ]
    },
    {
     "data": {
      "image/png": "[encoded data removed]",
      "text/plain": [
       "<Figure size 640x480 with 1 Axes>"
      ]
     },
     "metadata": {},
     "output_type": "display_data"
    }
   ],
   "source": [
    "w = np.random.rand(31,)\n",
    "\n",
    "w, obj_vals = sgd(x_train, y_train, .05, .01, w, 100)\n",
    "series= pd.Series(obj_vals)\n",
    "series.plot()\n",
    "plt.title('Stochastic Gradient Descent (Regularized)')\n",
    "plt.xlabel('Epochs')\n",
    "plt.ylabel('Objective Values')\n",
    "plt.show()"
   ]
  },
  {
   "cell_type": "code",
   "execution_count": 28,
   "metadata": {},
   "outputs": [
    {
     "data": {
      "image/png": "[encoded data removed]",
      "text/plain": [
       "<Figure size 640x480 with 1 Axes>"
      ]
     },
     "metadata": {},
     "output_type": "display_data"
    }
   ],
   "source": [
    "w = np.random.rand(31,)\n",
    "\n",
    "w, obj_vals = mbgd(x_train, y_train, 0, .01, w, 100)\n",
    "series= pd.Series(obj_vals)\n",
    "series.plot()\n",
    "plt.title('Mini Batch Gradient Descent (Non-Regularized)')\n",
    "plt.xlabel('Epochs')\n",
    "plt.ylabel('Objective Values')\n",
    "plt.show()\n"
   ]
  },
  {
   "cell_type": "code",
   "execution_count": 29,
   "metadata": {},
   "outputs": [
    {
     "data": {
      "image/png": "[encoded data removed]",
      "text/plain": [
       "<Figure size 640x480 with 1 Axes>"
      ]
     },
     "metadata": {},
     "output_type": "display_data"
    }
   ],
   "source": [
    "w = np.random.rand(31,)\n",
    "\n",
    "w, obj_vals = mbgd(x_train, y_train, .05, .01, w, 100)\n",
    "series= pd.Series(obj_vals)\n",
    "series.plot()\n",
    "plt.title('Mini Batch Gradient Descent (Non-Regularized)')\n",
    "plt.xlabel('Epochs')\n",
    "plt.ylabel('Objective Values')\n",
    "plt.show()"
   ]
  },
  {
   "cell_type": "markdown",
   "metadata": {},
   "source": [
    "# 5. Prediction\n",
    "### Compare the training and testing accuracy for logistic regression and regularized logistic regression."
   ]
  },
  {
   "cell_type": "code",
   "execution_count": 62,
   "metadata": {},
   "outputs": [],
   "source": [
    "# Predict class label\n",
    "# Inputs:\n",
    "#     w: weights: d-by-1 matrix\n",
    "#     X: data: m-by-d matrix\n",
    "# Return:\n",
    "#     f: m-by-1 matrix, the predictions\n",
    "def predict(w, X):\n",
    "    wx = np.dot(X,w)\n",
    "    y = 1/(1+np.exp(-wx))\n",
    "    y = np.round(y)\n",
    "    return np.where(y > 0.5, 1, -1)\n",
    "\n",
    "\n",
    "\n",
    "    "
   ]
  },
  {
   "cell_type": "code",
   "execution_count": 94,
   "metadata": {},
   "outputs": [],
   "source": [
    "# evaluate training error of logistic regression and regularized version\n",
    "from sklearn.metrics import *\n"
   ]
  },
  {
   "cell_type": "code",
   "execution_count": 136,
   "metadata": {},
   "outputs": [
    {
     "name": "stdout",
     "output_type": "stream",
     "text": [
      "Gradient Descent Non regularized Score: \n",
      "0.989010989010989\n",
      "Gradient Descent Regularized Score: \n",
      "0.9846153846153847\n"
     ]
    }
   ],
   "source": [
    "w = np.random.rand(31,1)\n",
    "w, obj_vals = gradient_descent(x_train, y_train, 0.0, .05, w, 1000)\n",
    "score = accuracy_score(y_train, predict(w, x_train))\n",
    "print(\"Gradient Descent Non Regularized Score: \")\n",
    "print(score)\n",
    "\n",
    "w_reg = np.random.rand(31,1)\n",
    "w_reg, obj_vals = gradient_descent(x_train, y_train, .05, .05, w_reg, 1000)\n",
    "score = accuracy_score(y_train, predict(w_reg, x_train))\n",
    "print(\"Gradient Descent Regularized Score: \")\n",
    "print(score)\n"
   ]
  },
  {
   "cell_type": "code",
   "execution_count": 137,
   "metadata": {},
   "outputs": [
    {
     "name": "stdout",
     "output_type": "stream",
     "text": [
      "\n",
      "Stochastic Gradient Descent Non regularized Score:\n",
      "0.9868131868131869\n",
      "\n",
      "Stochastic Gradient Descent Regularized Score:\n",
      "0.9868131868131869\n"
     ]
    }
   ],
   "source": [
    "w_sgd = np.random.rand(31,)\n",
    "w_sgd, obj_vals = sgd(x_train, y_train, 0, .01, w_sgd, 1000)\n",
    "score = accuracy_score(y_train, predict(w_sgd, x_train))\n",
    "print(\"Stochastic Gradient Descent Non Regularized Score:\")\n",
    "print(score)\n",
    "\n",
    "w_sgd_reg = np.random.rand(31,)\n",
    "w_sgd_reg, obj_vals = sgd(x_train, y_train, .05, .01, w_sgd_reg, 1000)\n",
    "score = accuracy_score(y_train, predict(w_sgd_reg, x_train))\n",
    "print(\"Stochastic Gradient Descent Regularized Score:\")\n",
    "print(score)"
   ]
  },
  {
   "cell_type": "code",
   "execution_count": 139,
   "metadata": {},
   "outputs": [
    {
     "name": "stdout",
     "output_type": "stream",
     "text": [
      "Mini Batch Gradient Descent Non Regularized Score: \n",
      "0.989010989010989\n",
      "Mini Batch Gradient Descent Regularized Score: \n",
      "0.9846153846153847\n"
     ]
    }
   ],
   "source": [
    "w_mb = np.random.rand(31,)\n",
    "w_mb, obj_vals = mbgd(x_train, y_train, 0, .01, w_mb, 1000)\n",
    "score = accuracy_score(y_train, predict(w_mb, x_train))\n",
    "print(\"Mini Batch Gradient Descent Non Regularized Score: \")\n",
    "print(score)\n",
    "\n",
    "w_mb_reg = np.random.rand(31,)\n",
    "w_mb_reg, obj_vals = mbgd(x_train, y_train, .05, .01, w_mb_reg, 1000)\n",
    "score = accuracy_score(y_train, predict(w_mb_reg, x_train))\n",
    "print(\"Mini Batch Gradient Descent Regularized Score: \")\n",
    "print(score)\n"
   ]
  },
  {
   "cell_type": "code",
   "execution_count": 141,
   "metadata": {},
   "outputs": [
    {
     "name": "stdout",
     "output_type": "stream",
     "text": [
      "Gradient Descent Non Regularized Score (test): \n",
      "0.956140350877193\n",
      "Gradient Descent Regularized Score (test): \n",
      "0.9824175824175824\n"
     ]
    }
   ],
   "source": [
    "w = np.random.rand(31,1)\n",
    "w, obj_vals = gradient_descent(x_train, y_train, 0.0, .05, w, 1000)\n",
    "score = accuracy_score(y_test, predict(w, x_test))\n",
    "print(\"Gradient Descent Non Regularized Score (test): \")\n",
    "print(score)\n",
    "\n",
    "w_reg = np.random.rand(31,1)\n",
    "w_reg, obj_vals = gradient_descent(x_train, y_train, .05, .05, w_reg, 1000)\n",
    "score = accuracy_score(y_train, predict(w_reg, x_train))\n",
    "print(\"Gradient Descent Regularized Score (test): \")\n",
    "print(score)"
   ]
  },
  {
   "cell_type": "code",
   "execution_count": 143,
   "metadata": {},
   "outputs": [
    {
     "name": "stdout",
     "output_type": "stream",
     "text": [
      "\n",
      "Stochastic Gradient Descent Non Regularized Score (test): \n",
      "0.9473684210526315\n",
      "\n",
      "Stochastic Gradient Descent Regularized Score (test): \n",
      "0.9736842105263158\n"
     ]
    }
   ],
   "source": [
    "w_sgd = np.random.rand(31,)\n",
    "w_sgd, obj_vals = sgd(x_train, y_train, 0, .01, w_sgd, 1000)\n",
    "score = accuracy_score(y_test, predict(w_sgd, x_test))\n",
    "print(\"Stochastic Gradient Descent Non Regularized Score (test): \")\n",
    "print(score)\n",
    "\n",
    "w_sgd_reg = np.random.rand(31,)\n",
    "w_sgd_reg, obj_vals = sgd(x_train, y_train, .05, .01, w_sgd_reg, 1000)\n",
    "score = accuracy_score(y_test, predict(w_sgd_reg, x_test))\n",
    "print(\"Stochastic Gradient Descent Regularized Score (test): \")\n",
    "print(score)"
   ]
  },
  {
   "cell_type": "code",
   "execution_count": 145,
   "metadata": {},
   "outputs": [
    {
     "name": "stdout",
     "output_type": "stream",
     "text": [
      "Mini Batch Gradient Descent Non Regularized Score (test): \n",
      "0.9473684210526315\n",
      "Mini Batch Gradient Descent Regularized Score (test): \n",
      "0.9649122807017544\n"
     ]
    }
   ],
   "source": [
    "w_mb = np.random.rand(31,)\n",
    "w_mb, obj_vals = mbgd(x_train, y_train, 0, .01, w_mb, 1000)\n",
    "score = accuracy_score(y_test, predict(w_mb, x_test))\n",
    "print(\"Mini Batch Gradient Descent Non Regularized Score (test): \")\n",
    "print(score)\n",
    "\n",
    "w_mb_reg = np.random.rand(31,)\n",
    "w_mb_reg, obj_vals = mbgd(x_train, y_train, .05, .01, w_mb_reg, 1000)\n",
    "score = accuracy_score(y_test, predict(w_mb_reg, x_test))\n",
    "print(\"Mini Batch Gradient Descent Regularized Score (test): \")\n",
    "print(score)"
   ]
  },
  {
   "cell_type": "markdown",
   "metadata": {},
   "source": [
    "# 6. Parameters tuning"
   ]
  },
  {
   "cell_type": "markdown",
   "metadata": {},
   "source": [
    "### In this section, you may try different combinations of parameters (regularization value, learning rate, etc) to see their effects on the model. (Open ended question)"
   ]
  },
  {
   "cell_type": "code",
   "execution_count": 148,
   "metadata": {},
   "outputs": [
    {
     "name": "stdout",
     "output_type": "stream",
     "text": [
      "learning rate is .01\n"
     ]
    },
    {
     "data": {
      "image/png": "[encoded data removed]",
      "text/plain": [
       "<Figure size 640x480 with 1 Axes>"
      ]
     },
     "metadata": {},
     "output_type": "display_data"
    },
    {
     "name": "stdout",
     "output_type": "stream",
     "text": [
      "learning rate is .15\n"
     ]
    },
    {
     "data": {
      "image/png": "[encoded data removed]",
      "text/plain": [
       "<Figure size 640x480 with 1 Axes>"
      ]
     },
     "metadata": {},
     "output_type": "display_data"
    }
   ],
   "source": [
    "print(\"learning rate is .01\")\n",
    "\n",
    "w = np.random.rand(31,)\n",
    "\n",
    "w, obj_vals = mbgd(x_train, y_train, 0, .01, w, 100)\n",
    "series= pd.Series(obj_vals)\n",
    "series.plot()\n",
    "plt.title('Mini Batch Gradient Descent (Non-Regularized)')\n",
    "plt.xlabel('Epochs')\n",
    "plt.ylabel('Objective Values')\n",
    "plt.show()\n",
    "\n",
    "print(\"learning rate is .15\")\n",
    "\n",
    "w = np.random.rand(31,)\n",
    "\n",
    "w, obj_vals = mbgd(x_train, y_train, 0, .15, w, 100)\n",
    "series= pd.Series(obj_vals)\n",
    "series.plot()\n",
    "plt.title('Mini Batch Gradient Descent (Non-Regularized)')\n",
    "plt.xlabel('Epochs')\n",
    "plt.ylabel('Objective Values')\n",
    "plt.show()\n",
    "\n",
    "print(\"The lower the learning rate, the more optmized the gradient descent is since it moves towards 0 faster. This means it is finding the local minimum quicker. \")"
   ]
  }
 ],
 "metadata": {
  "kernelspec": {
   "display_name": "Python 3",
   "language": "python",
   "name": "python3"
  },
  "language_info": {
   "codemirror_mode": {
    "name": "ipython",
    "version": 3
   },
   "file_extension": ".py",
   "mimetype": "text/x-python",
   "name": "python",
   "nbconvert_exporter": "python",
   "pygments_lexer": "ipython3",
   "version": "3.11.1"
  },
  "vscode": {
   "interpreter": {
    "hash": "3717771d330c411ba745a93dc8931e8e3dae97cd35869627e895645f917f67a1"
   }
  }
 },
 "nbformat": 4,
 "nbformat_minor": 2
}
